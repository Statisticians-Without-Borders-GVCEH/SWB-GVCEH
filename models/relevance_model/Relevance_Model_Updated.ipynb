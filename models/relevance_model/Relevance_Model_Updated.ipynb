{
 "cells": [
  {
   "cell_type": "code",
   "execution_count": 1,
   "metadata": {},
   "outputs": [],
   "source": [
    "import pandas as pd\n",
    "import numpy as np\n",
    "from sklearn.metrics import *"
   ]
  },
  {
   "cell_type": "code",
   "execution_count": 2,
   "metadata": {},
   "outputs": [
    {
     "data": {
      "text/html": [
       "<div>\n",
       "<style scoped>\n",
       "    .dataframe tbody tr th:only-of-type {\n",
       "        vertical-align: middle;\n",
       "    }\n",
       "\n",
       "    .dataframe tbody tr th {\n",
       "        vertical-align: top;\n",
       "    }\n",
       "\n",
       "    .dataframe thead th {\n",
       "        text-align: right;\n",
       "    }\n",
       "</style>\n",
       "<table border=\"1\" class=\"dataframe\">\n",
       "  <thead>\n",
       "    <tr style=\"text-align: right;\">\n",
       "      <th></th>\n",
       "      <th>vic</th>\n",
       "      <th>hl</th>\n",
       "      <th>text</th>\n",
       "    </tr>\n",
       "  </thead>\n",
       "  <tbody>\n",
       "    <tr>\n",
       "      <th>0</th>\n",
       "      <td>Yes</td>\n",
       "      <td>No</td>\n",
       "      <td>@AnnaGreenwoodL1 @saanich Dawson Heights Housi...</td>\n",
       "    </tr>\n",
       "    <tr>\n",
       "      <th>1</th>\n",
       "      <td>No</td>\n",
       "      <td>No</td>\n",
       "      <td>It's Election Day and the polls are now open u...</td>\n",
       "    </tr>\n",
       "    <tr>\n",
       "      <th>2</th>\n",
       "      <td>No</td>\n",
       "      <td>No</td>\n",
       "      <td>Sidney Bulwer Michaelia Roger #彩票 Bblythe Camp...</td>\n",
       "    </tr>\n",
       "    <tr>\n",
       "      <th>3</th>\n",
       "      <td>No</td>\n",
       "      <td>No</td>\n",
       "      <td>Me telling my parents I’m gonna spit on this o...</td>\n",
       "    </tr>\n",
       "    <tr>\n",
       "      <th>4</th>\n",
       "      <td>No</td>\n",
       "      <td>No</td>\n",
       "      <td>WRD Director Joy Langford shared water conserv...</td>\n",
       "    </tr>\n",
       "  </tbody>\n",
       "</table>\n",
       "</div>"
      ],
      "text/plain": [
       "   vic  hl                                               text\n",
       "0  Yes  No  @AnnaGreenwoodL1 @saanich Dawson Heights Housi...\n",
       "1   No  No  It's Election Day and the polls are now open u...\n",
       "2   No  No  Sidney Bulwer Michaelia Roger #彩票 Bblythe Camp...\n",
       "3   No  No  Me telling my parents I’m gonna spit on this o...\n",
       "4   No  No  WRD Director Joy Langford shared water conserv..."
      ]
     },
     "execution_count": 2,
     "metadata": {},
     "output_type": "execute_result"
    }
   ],
   "source": [
    "df1 = pd.read_csv('GVCEH Milestone 2 Labelling 1 - RawData.csv', usecols=['text', 'Relevant to Victoria', 'Relevant to Homelessness'])\n",
    "df1 = df1.rename(columns={\"Relevant to Victoria\": \"vic\", \"Relevant to Homelessness\": \"hl\"})\n",
    "df2 = pd.read_csv('GVCEH Milestone 2 Labelling 2 - RawData.csv', usecols=['text', 'Relevant to Victoria', 'Relevant to Homelessness'])\n",
    "df2 = df2.rename(columns={\"Relevant to Victoria\": \"vic\", \"Relevant to Homelessness\": \"hl\"})\n",
    "df1.head()"
   ]
  },
  {
   "cell_type": "code",
   "execution_count": 3,
   "metadata": {},
   "outputs": [
    {
     "data": {
      "text/html": [
       "<div>\n",
       "<style scoped>\n",
       "    .dataframe tbody tr th:only-of-type {\n",
       "        vertical-align: middle;\n",
       "    }\n",
       "\n",
       "    .dataframe tbody tr th {\n",
       "        vertical-align: top;\n",
       "    }\n",
       "\n",
       "    .dataframe thead th {\n",
       "        text-align: right;\n",
       "    }\n",
       "</style>\n",
       "<table border=\"1\" class=\"dataframe\">\n",
       "  <thead>\n",
       "    <tr style=\"text-align: right;\">\n",
       "      <th></th>\n",
       "      <th>vic</th>\n",
       "      <th>hl</th>\n",
       "      <th>text</th>\n",
       "    </tr>\n",
       "  </thead>\n",
       "  <tbody>\n",
       "    <tr>\n",
       "      <th>0</th>\n",
       "      <td>No</td>\n",
       "      <td>No</td>\n",
       "      <td>Inauguration of the new building for the Class...</td>\n",
       "    </tr>\n",
       "    <tr>\n",
       "      <th>1</th>\n",
       "      <td>No</td>\n",
       "      <td>No</td>\n",
       "      <td>#Dubai Destinations: Here is the easiest and m...</td>\n",
       "    </tr>\n",
       "    <tr>\n",
       "      <th>2</th>\n",
       "      <td>Yes</td>\n",
       "      <td>No</td>\n",
       "      <td>@fireladdyguy @otohp @bcliberals MY @saanich I...</td>\n",
       "    </tr>\n",
       "    <tr>\n",
       "      <th>3</th>\n",
       "      <td>Yes</td>\n",
       "      <td>No</td>\n",
       "      <td>@saanich @saanich if you can't collect garbage...</td>\n",
       "    </tr>\n",
       "    <tr>\n",
       "      <th>4</th>\n",
       "      <td>No</td>\n",
       "      <td>No</td>\n",
       "      <td>Pleased so many sensible and helpful recommend...</td>\n",
       "    </tr>\n",
       "  </tbody>\n",
       "</table>\n",
       "</div>"
      ],
      "text/plain": [
       "   vic  hl                                               text\n",
       "0   No  No  Inauguration of the new building for the Class...\n",
       "1   No  No  #Dubai Destinations: Here is the easiest and m...\n",
       "2  Yes  No  @fireladdyguy @otohp @bcliberals MY @saanich I...\n",
       "3  Yes  No  @saanich @saanich if you can't collect garbage...\n",
       "4   No  No  Pleased so many sensible and helpful recommend..."
      ]
     },
     "execution_count": 3,
     "metadata": {},
     "output_type": "execute_result"
    }
   ],
   "source": [
    "df2.head()"
   ]
  },
  {
   "cell_type": "code",
   "execution_count": 4,
   "metadata": {},
   "outputs": [
    {
     "name": "stdout",
     "output_type": "stream",
     "text": [
      "(2116, 3)\n"
     ]
    },
    {
     "data": {
      "text/plain": [
       "(788, 3)"
      ]
     },
     "execution_count": 4,
     "metadata": {},
     "output_type": "execute_result"
    }
   ],
   "source": [
    "print(df1.shape)\n",
    "df1.dropna(inplace=True)\n",
    "df1 = df1[np.logical_and(df1.vic.isin(['Yes', 'No']), df1.hl.isin(['Yes', 'No']))]\n",
    "df1.shape"
   ]
  },
  {
   "cell_type": "code",
   "execution_count": 5,
   "metadata": {},
   "outputs": [
    {
     "name": "stdout",
     "output_type": "stream",
     "text": [
      "(2688, 3)\n"
     ]
    },
    {
     "data": {
      "text/plain": [
       "(1219, 3)"
      ]
     },
     "execution_count": 5,
     "metadata": {},
     "output_type": "execute_result"
    }
   ],
   "source": [
    "print(df2.shape)\n",
    "df2.dropna(inplace=True)\n",
    "df2 = df2[np.logical_and(df2.vic.isin(['Yes', 'No']), df2.hl.isin(['Yes', 'No']))]\n",
    "df2.shape"
   ]
  },
  {
   "cell_type": "code",
   "execution_count": 6,
   "metadata": {},
   "outputs": [
    {
     "data": {
      "text/html": [
       "<div>\n",
       "<style scoped>\n",
       "    .dataframe tbody tr th:only-of-type {\n",
       "        vertical-align: middle;\n",
       "    }\n",
       "\n",
       "    .dataframe tbody tr th {\n",
       "        vertical-align: top;\n",
       "    }\n",
       "\n",
       "    .dataframe thead th {\n",
       "        text-align: right;\n",
       "    }\n",
       "</style>\n",
       "<table border=\"1\" class=\"dataframe\">\n",
       "  <thead>\n",
       "    <tr style=\"text-align: right;\">\n",
       "      <th></th>\n",
       "      <th>vic</th>\n",
       "      <th>hl</th>\n",
       "      <th>text</th>\n",
       "    </tr>\n",
       "  </thead>\n",
       "  <tbody>\n",
       "    <tr>\n",
       "      <th>0</th>\n",
       "      <td>Yes</td>\n",
       "      <td>No</td>\n",
       "      <td>@AnnaGreenwoodL1 @saanich Dawson Heights Housi...</td>\n",
       "    </tr>\n",
       "    <tr>\n",
       "      <th>1</th>\n",
       "      <td>No</td>\n",
       "      <td>No</td>\n",
       "      <td>It's Election Day and the polls are now open u...</td>\n",
       "    </tr>\n",
       "    <tr>\n",
       "      <th>2</th>\n",
       "      <td>No</td>\n",
       "      <td>No</td>\n",
       "      <td>Sidney Bulwer Michaelia Roger #彩票 Bblythe Camp...</td>\n",
       "    </tr>\n",
       "    <tr>\n",
       "      <th>3</th>\n",
       "      <td>No</td>\n",
       "      <td>No</td>\n",
       "      <td>Me telling my parents I’m gonna spit on this o...</td>\n",
       "    </tr>\n",
       "    <tr>\n",
       "      <th>4</th>\n",
       "      <td>No</td>\n",
       "      <td>No</td>\n",
       "      <td>WRD Director Joy Langford shared water conserv...</td>\n",
       "    </tr>\n",
       "  </tbody>\n",
       "</table>\n",
       "</div>"
      ],
      "text/plain": [
       "   vic  hl                                               text\n",
       "0  Yes  No  @AnnaGreenwoodL1 @saanich Dawson Heights Housi...\n",
       "1   No  No  It's Election Day and the polls are now open u...\n",
       "2   No  No  Sidney Bulwer Michaelia Roger #彩票 Bblythe Camp...\n",
       "3   No  No  Me telling my parents I’m gonna spit on this o...\n",
       "4   No  No  WRD Director Joy Langford shared water conserv..."
      ]
     },
     "execution_count": 6,
     "metadata": {},
     "output_type": "execute_result"
    }
   ],
   "source": [
    "df = pd.concat((df1, df2))\n",
    "df.head()"
   ]
  },
  {
   "cell_type": "code",
   "execution_count": 7,
   "metadata": {},
   "outputs": [
    {
     "data": {
      "text/plain": [
       "(2007, 3)"
      ]
     },
     "execution_count": 7,
     "metadata": {},
     "output_type": "execute_result"
    }
   ],
   "source": [
    "df.shape"
   ]
  },
  {
   "cell_type": "code",
   "execution_count": 8,
   "metadata": {},
   "outputs": [
    {
     "data": {
      "text/plain": [
       "(No     1595\n",
       " Yes     412\n",
       " Name: vic, dtype: int64,\n",
       " No     1808\n",
       " Yes     199\n",
       " Name: hl, dtype: int64)"
      ]
     },
     "execution_count": 8,
     "metadata": {},
     "output_type": "execute_result"
    }
   ],
   "source": [
    "df.vic.value_counts(), df.hl.value_counts()"
   ]
  },
  {
   "cell_type": "code",
   "execution_count": 9,
   "metadata": {},
   "outputs": [
    {
     "data": {
      "text/plain": [
       "{'Yes': 1, 'No': 0}"
      ]
     },
     "execution_count": 9,
     "metadata": {},
     "output_type": "execute_result"
    }
   ],
   "source": [
    "label_map = dict(Yes=1, No=0)\n",
    "label_map"
   ]
  },
  {
   "cell_type": "code",
   "execution_count": 10,
   "metadata": {},
   "outputs": [],
   "source": [
    "df.vic = df.vic.map(label_map)\n",
    "df.hl = df.hl.map(label_map)"
   ]
  },
  {
   "cell_type": "code",
   "execution_count": 11,
   "metadata": {},
   "outputs": [
    {
     "data": {
      "text/plain": [
       "0    @AnnaGreenwoodL1 @saanich Dawson Heights Housi...\n",
       "1    It's Election Day and the polls are now open u...\n",
       "2    Sidney Bulwer Michaelia Roger #彩票 Bblythe Camp...\n",
       "3    Me telling my parents I’m gonna spit on this o...\n",
       "4    WRD Director Joy Langford shared water conserv...\n",
       "Name: text, dtype: object"
      ]
     },
     "execution_count": 11,
     "metadata": {},
     "output_type": "execute_result"
    }
   ],
   "source": [
    "def clean_text(text):\n",
    "  new_text = []\n",
    "  for t in text.split(\" \"):\n",
    "      # t = '@user' if t.startswith('@') and len(t) > 1 else t\n",
    "      t = 'http' if t.startswith('http') else t\n",
    "      new_text.append(t)\n",
    "  return \" \".join(new_text)\n",
    "\n",
    "df.text = df.text.apply(clean_text)\n",
    "df.text.iloc[:5]"
   ]
  },
  {
   "cell_type": "code",
   "execution_count": 12,
   "metadata": {},
   "outputs": [],
   "source": [
    "df = df.drop_duplicates()"
   ]
  },
  {
   "cell_type": "code",
   "execution_count": 13,
   "metadata": {},
   "outputs": [
    {
     "data": {
      "text/plain": [
       "False    1629\n",
       "True      160\n",
       "Name: label, dtype: int64"
      ]
     },
     "execution_count": 13,
     "metadata": {},
     "output_type": "execute_result"
    }
   ],
   "source": [
    "df['label'] = np.logical_and(df.vic, df.hl)\n",
    "df.label.value_counts()"
   ]
  },
  {
   "cell_type": "code",
   "execution_count": 14,
   "metadata": {},
   "outputs": [],
   "source": [
    "df = pd.concat((df[df.label == True], df[df.label == False].iloc[:300]))"
   ]
  },
  {
   "cell_type": "code",
   "execution_count": 15,
   "metadata": {},
   "outputs": [
    {
     "data": {
      "text/plain": [
       "(0    295\n",
       " 1    165\n",
       " Name: hl, dtype: int64,\n",
       " 0    273\n",
       " 1    187\n",
       " Name: vic, dtype: int64)"
      ]
     },
     "execution_count": 15,
     "metadata": {},
     "output_type": "execute_result"
    }
   ],
   "source": [
    "df.hl.value_counts(), df.vic.value_counts()"
   ]
  },
  {
   "cell_type": "code",
   "execution_count": 16,
   "metadata": {},
   "outputs": [],
   "source": [
    "from datasets import Dataset\n",
    "dataset = Dataset.from_pandas(df\n",
    "                              # , preserve_index=False #SF: Added this .. no luck\n",
    "                             )"
   ]
  },
  {
   "cell_type": "code",
   "execution_count": 17,
   "metadata": {},
   "outputs": [
    {
     "data": {
      "text/plain": [
       "Dataset({\n",
       "    features: ['vic', 'hl', 'text', 'label', '__index_level_0__'],\n",
       "    num_rows: 460\n",
       "})"
      ]
     },
     "execution_count": 17,
     "metadata": {},
     "output_type": "execute_result"
    }
   ],
   "source": [
    "dataset"
   ]
  },
  {
   "cell_type": "code",
   "execution_count": 18,
   "metadata": {},
   "outputs": [
    {
     "data": {
      "application/vnd.jupyter.widget-view+json": {
       "model_id": "a9a71d343a2e4487b48dbe8180d433e0",
       "version_major": 2,
       "version_minor": 0
      },
      "text/plain": [
       "Stringifying the column:   0%|          | 0/1 [00:00<?, ?ba/s]"
      ]
     },
     "metadata": {},
     "output_type": "display_data"
    },
    {
     "data": {
      "application/vnd.jupyter.widget-view+json": {
       "model_id": "de240a77bfd54dfcbfc10204c924f39e",
       "version_major": 2,
       "version_minor": 0
      },
      "text/plain": [
       "Casting to class labels:   0%|          | 0/1 [00:00<?, ?ba/s]"
      ]
     },
     "metadata": {},
     "output_type": "display_data"
    }
   ],
   "source": [
    "dataset = dataset.class_encode_column('label')"
   ]
  },
  {
   "cell_type": "code",
   "execution_count": 19,
   "metadata": {},
   "outputs": [
    {
     "data": {
      "text/plain": [
       "{'vic': Value(dtype='int64', id=None),\n",
       " 'hl': Value(dtype='int64', id=None),\n",
       " 'text': Value(dtype='string', id=None),\n",
       " 'label': ClassLabel(names=['False', 'True'], id=None),\n",
       " '__index_level_0__': Value(dtype='int64', id=None)}"
      ]
     },
     "execution_count": 19,
     "metadata": {},
     "output_type": "execute_result"
    }
   ],
   "source": [
    "dataset.features"
   ]
  },
  {
   "cell_type": "code",
   "execution_count": 20,
   "metadata": {},
   "outputs": [],
   "source": [
    "ds = dataset.train_test_split(test_size=0.25, \n",
    "                              shuffle=True,\n",
    "                              stratify_by_column='label',\n",
    "                              seed=42)"
   ]
  },
  {
   "cell_type": "code",
   "execution_count": 21,
   "metadata": {},
   "outputs": [
    {
     "data": {
      "text/plain": [
       "{'vic': 0,\n",
       " 'hl': 0,\n",
       " 'text': '@wahlstedt007 Goodmorning Sidney,  I\\'m so glad you got to see him. Hopefully it won\\'t be to much longer and he can go home. Tell him your twitter friends say \"hello\" 🤗',\n",
       " 'label': 0,\n",
       " '__index_level_0__': 519}"
      ]
     },
     "execution_count": 21,
     "metadata": {},
     "output_type": "execute_result"
    }
   ],
   "source": [
    "ds['train'][0]"
   ]
  },
  {
   "cell_type": "code",
   "execution_count": 22,
   "metadata": {},
   "outputs": [],
   "source": [
    "import torch "
   ]
  },
  {
   "cell_type": "code",
   "execution_count": 23,
   "metadata": {},
   "outputs": [
    {
     "data": {
      "text/plain": [
       "'1.13.1'"
      ]
     },
     "execution_count": 23,
     "metadata": {},
     "output_type": "execute_result"
    }
   ],
   "source": [
    "torch. __version__"
   ]
  },
  {
   "cell_type": "code",
   "execution_count": 24,
   "metadata": {},
   "outputs": [
    {
     "data": {
      "text/plain": [
       "False"
      ]
     },
     "execution_count": 24,
     "metadata": {},
     "output_type": "execute_result"
    }
   ],
   "source": [
    "torch.cuda.is_available()"
   ]
  },
  {
   "cell_type": "code",
   "execution_count": 25,
   "metadata": {},
   "outputs": [
    {
     "data": {
      "text/plain": [
       "device(type='cpu')"
      ]
     },
     "execution_count": 25,
     "metadata": {},
     "output_type": "execute_result"
    }
   ],
   "source": [
    "device = torch.device(\"cuda\" if torch.cuda.is_available() else \"cpu\")\n",
    "device\n",
    "# ds = ds.with_format(\"torch\", device=device)\n",
    "# ds['train'][0]"
   ]
  },
  {
   "cell_type": "code",
   "execution_count": 26,
   "metadata": {},
   "outputs": [
    {
     "name": "stderr",
     "output_type": "stream",
     "text": [
      "No sentence-transformers model found with name /Users/sheilaflood/.cache/torch/sentence_transformers/cambridgeltl_tweet-roberta-base-embeddings-v1. Creating a new one with MEAN pooling.\n",
      "model_head.pkl not found on HuggingFace Hub, initialising classification head with random weights. You should TRAIN this model on a downstream task to use it for predictions and inference.\n",
      "Change `out_features` from 1 to 2 since we use `CrossEntropyLoss` for binary classification.\n"
     ]
    }
   ],
   "source": [
    "from setfit import SetFitModel\n",
    "\n",
    "model_id = \"cambridgeltl/tweet-roberta-base-embeddings-v1\" # \"sentence-transformers/paraphrase-mpnet-base-v2\"  # 'cardiffnlp/twitter-roberta-base-sep2022'\n",
    "model = SetFitModel.from_pretrained(model_id,\n",
    "                                    use_differentiable_head=True, \n",
    "                                    head_params={\"out_features\": 1},\n",
    "                                    # multi_target_strategy=\"multi-output\",\n",
    "                                    )"
   ]
  },
  {
   "cell_type": "code",
   "execution_count": 27,
   "metadata": {},
   "outputs": [],
   "source": [
    "from sentence_transformers.losses import CosineSimilarityLoss\n",
    "from setfit import SetFitTrainer\n",
    "\n",
    "trainer = SetFitTrainer(\n",
    "    model=model,\n",
    "    train_dataset=ds['train'],\n",
    "    eval_dataset=ds['test'],\n",
    "    loss_class=CosineSimilarityLoss,\n",
    "    metric='f1',\n",
    "    batch_size=64,\n",
    "    num_epochs=50,\n",
    "    num_iterations=20,\n",
    "    use_amp=True,\n",
    "    # unique_pairs=True, # experiemental\n",
    "    column_mapping={\"text\": \"text\", \"label\": \"label\"} # Map dataset columns to text/label expected by trainer\n",
    ")\n",
    "trainer.model.model_body.max_seq_length = 64"
   ]
  },
  {
   "cell_type": "code",
   "execution_count": 28,
   "metadata": {},
   "outputs": [
    {
     "name": "stderr",
     "output_type": "stream",
     "text": [
      "Applying column mapping to training dataset\n"
     ]
    },
    {
     "data": {
      "application/vnd.jupyter.widget-view+json": {
       "model_id": "4cd2c568aab04bb0b5f4ded3b147361f",
       "version_major": 2,
       "version_minor": 0
      },
      "text/plain": [
       "Epoch:   0%|          | 0/2 [00:00<?, ?it/s]"
      ]
     },
     "metadata": {},
     "output_type": "display_data"
    }
   ],
   "source": [
    "# trainer.freeze() # Freeze the head\n",
    "# trainer.train() # Train only the body\n",
    "\n",
    "# Unfreeze the head and freeze the body -> head-only training\n",
    "# trainer.unfreeze(keep_body_frozen=True)\n",
    "# or\n",
    "# Unfreeze the head and unfreeze the body -> end-to-end training\n",
    "trainer.unfreeze(keep_body_frozen=False)\n",
    "trainer.train(\n",
    "    num_epochs=2, # The number of epochs to train the head or the whole model (body and head)\n",
    "    max_length=64,\n",
    "    batch_size=64,\n",
    "    body_learning_rate=1e-5, # The body's learning rate\n",
    "    learning_rate=1e-2, # The head's learning rate\n",
    "    l2_weight=0.0, # Weight decay on **both** the body and head. If `None`, will use 0.01.\n",
    ")"
   ]
  },
  {
   "cell_type": "code",
   "execution_count": 29,
   "metadata": {},
   "outputs": [
    {
     "name": "stderr",
     "output_type": "stream",
     "text": [
      "Applying column mapping to evaluation dataset\n",
      "***** Running evaluation *****\n"
     ]
    },
    {
     "data": {
      "text/plain": [
       "{'f1': 0.9268292682926829}"
      ]
     },
     "execution_count": 29,
     "metadata": {},
     "output_type": "execute_result"
    }
   ],
   "source": [
    "metrics = trainer.evaluate()\n",
    "metrics"
   ]
  },
  {
   "cell_type": "code",
   "execution_count": 30,
   "metadata": {},
   "outputs": [],
   "source": [
    "test_x = np.array(ds['test']['text'])\n",
    "test_y = np.array(ds['test']['label'])"
   ]
  },
  {
   "cell_type": "code",
   "execution_count": 31,
   "metadata": {},
   "outputs": [],
   "source": [
    "preds = model(test_x).cpu().numpy()"
   ]
  },
  {
   "cell_type": "code",
   "execution_count": 32,
   "metadata": {},
   "outputs": [
    {
     "name": "stdout",
     "output_type": "stream",
     "text": [
      "              precision    recall  f1-score   support\n",
      "\n",
      "           0       0.97      0.95      0.96        75\n",
      "           1       0.90      0.95      0.93        40\n",
      "\n",
      "    accuracy                           0.95       115\n",
      "   macro avg       0.94      0.95      0.94       115\n",
      "weighted avg       0.95      0.95      0.95       115\n",
      "\n"
     ]
    }
   ],
   "source": [
    "print(classification_report(test_y, preds))"
   ]
  },
  {
   "cell_type": "code",
   "execution_count": 33,
   "metadata": {},
   "outputs": [
    {
     "data": {
      "text/plain": [
       "array(['@fairfield_iowa @snowmanandlila what is your problem. people who are unhoused don’t deserve dignity and communication in your eyes?',\n",
       "       '@R35YYj @saanich From BC Local Govt:\\nhttps://t.co/6ycNodJTEn\\n\\nStaff briefings, to further elected officials understanding of an issue, that do not constitute a material part of the decision-making process, would not typically be considered a municipal council or regional district board meeting.',\n",
       "       '@RTodKelly An ambitious family unit in Tropical Canada  , I am poor and disabled but this kind of  world is just a few kms away.    The Gorge when I came for university could not even be swum in. It got cleaned up and in the last step of is as good  a specific type of oyster is back. http',\n",
       "       '@TalktoARYZE @Magnatiles @LeonPlett I see 33 affordable rental units right there... breath life into this, and build it on Oak Bay Ave. Dibs 23rd floor micro loft.\\n\\nYou could call it, The Needle... as an homage to repairing the tweed that will be shredded when you start developing multi-family units in every hood.'],\n",
       "      dtype='<U571')"
      ]
     },
     "execution_count": 33,
     "metadata": {},
     "output_type": "execute_result"
    }
   ],
   "source": [
    "test_x[np.logical_and(preds == 1, test_y == 0)] # false positives"
   ]
  },
  {
   "cell_type": "code",
   "execution_count": 34,
   "metadata": {},
   "outputs": [
    {
     "data": {
      "text/plain": [
       "array(['@jorymicah US Government has always been this way.\\nLike in Canada. Schools create economic slaves. Put people in categories they create. Including criminalized people. Racism and poor bashing leads in the ugly, currently making the enemy people who use drugs and struggle with mental health.',\n",
       "       'RT @VicBuilders: Just sent a reno project to VRBA builders via our popular Expression of Interest http Try it for your new home or renovation! #Saanich #OakBay #Langford #CSaan #ViewRoyal #Colwood #Sooke #NSaan #Esquimalt #Metchosin #HighlandsBC #VictoriaBC #…'],\n",
       "      dtype='<U571')"
      ]
     },
     "execution_count": 34,
     "metadata": {},
     "output_type": "execute_result"
    }
   ],
   "source": [
    "test_x[np.logical_and(preds == 0, test_y == 1)] # false negatives"
   ]
  },
  {
   "cell_type": "code",
   "execution_count": 36,
   "metadata": {},
   "outputs": [],
   "source": [
    "PATH = '/Users/sheilaflood/SWB-GVCEH/models/relevance_model/rel_model.csv'\n",
    "torch.save(trainer, PATH)"
   ]
  },
  {
   "cell_type": "code",
   "execution_count": 37,
   "metadata": {},
   "outputs": [],
   "source": [
    "the_model = torch.load(PATH)"
   ]
  },
  {
   "cell_type": "code",
   "execution_count": 38,
   "metadata": {},
   "outputs": [
    {
     "name": "stderr",
     "output_type": "stream",
     "text": [
      "Applying column mapping to evaluation dataset\n",
      "***** Running evaluation *****\n"
     ]
    },
    {
     "data": {
      "text/plain": [
       "{'f1': 0.9268292682926829}"
      ]
     },
     "execution_count": 38,
     "metadata": {},
     "output_type": "execute_result"
    }
   ],
   "source": [
    "metrics = the_model.evaluate()\n",
    "metrics"
   ]
  },
  {
   "cell_type": "code",
   "execution_count": 45,
   "metadata": {},
   "outputs": [
    {
     "data": {
      "text/plain": [
       "array(['Gonzales said his number one priority is curbing domestic violence. He also wants to continue progressive policies such as cite and release. #SanAntonio #SATX #SanAntonioTX #bexarcounty #2022Elections #Midterms2022\\n\\nhttps://t.co/jaFULOfteJ',\n",
       "       '@ErikReed Holiday Inn Times Square on 8th Ave is really close to subways. The Westin Times Square is great &amp; close to subways too. Crowne Plaza HY 36 midtown is a nice &amp; typically affordable hotel, as is Double Tree Times Sq South in 8th Ave &amp; Fairfield Inn &amp; Suites Midtown Penn Station',\n",
       "       '\"the region needs rentals, townhouses, duplexes, triplexes and beyond to help ensure that it does not face another cycle of rapid price increases due to the lack of future inventory.\" http #Saanich #oakbay #csaan #colwood #viewroyal #langford #sidney #sooke',\n",
       "       \"Hospitality students from Camosun College dished out hot lunches to people at Victoria's Our Place Society on Thursday.  http\",\n",
       "       'Darien vs Ludlowe ~ High School Girls Volleyball 🔴 Live Stream\\nWatch Live Game ▶️ http Darien (CT) varsity volleyball team has a home conference match vs. Ludlowe (Fairfield, CT) today @ 10p.',\n",
       "       '@dharmabrat @IslandFamily5 @d_brokenshire @GlobalBC As opposed to what?  Are you including the folks offered rooms in the hotels, couch surfing or all renters who simply don’t actually “own homes?”  How broad is your definition?  Street entrenched homelessness will also go up in Victoria as we absorb folks from the DTES=drugs.',\n",
       "       '\"58% of Canadians believe that homelessness is an issue in their community; 46% feel less safe in their community because of homelessness; and 39% believe that homelessness has led to more violence in their community.\" #YYJ #VictoriaBC #YYJpoli http',\n",
       "       'Poem of the Day 5 November 2022 Sleep by Philip Sidney COME, Sleep; O Sleep! the certain knot of peace, The baiting-place of wit, the balm of woe, The poor man’s wealth, the prisoner’s release, Th’ indifferent judge between the high and low;... http',\n",
       "       \"Have you been eyeing a mid-mod ranch in Central Park? Well, you're in luck! KB Home has three stunning homes available in their Starlight series in the North End neighborhood. \\n\\nAshley@Focus-Realtors.com\\n(720) 799-6376\\n\\nhttps://t.co/7FTjACjCxs\",\n",
       "       'We just donated to Greater Victoria Coalition to End Homelessness. You can too! http',\n",
       "       'Only 16% get that               Government policies are making things worse. BC alone allotted $633m. Add federal and private $$$ to that. Yet tent cities, overdose deaths, and violent crime rising in progressive cities. #yyj #cdnpoli #bcooli http',\n",
       "       'Estelle sent us these recent images of her adoptee, Tal Vez, a LongRun OTTB she fell for and brought home September 2020. \\nThank you Nick Gonzales, trainer, and Mary Ellen Kennedy, owner, for donating him to us!\\n#ottb #thoroughbreds #horseadoption #longrun_tb #baygelding http',\n",
       "       \"@Covid_Stinks Why would someone who lives in Saanich ever support homeless encampments be situated nearer to them?Or were you suggesting they be shuttled over 𝘔𝘢𝘳𝘵𝘩𝘢 𝘝𝘪𝘯𝘦𝘺𝘢𝘳𝘥 style?https://t.co/6RpUec59CU Never gonna happenThose sanctimonious YIMBY-NIMBYs near Mt Tolmie will say they have sensitive papers on their park benches or make some other virtuous excuseGotta go further out(If they're not gonna build more student housing, then @uvic should allow tents)#yyjpoli#yyj http\",\n",
       "       \"ONE TRIP FOR MILE\\n\\nI wish for Mile to see Kolkata, West Bengal 😆 Visit the Indian museum, Victoria Memorial, Park Street, see our iconic Durga Puja. I hate it but I love it and no matter where I'm in the world, this is home haha xD \\n💚\\n#MilePhakphum @milephakphum http\",\n",
       "       'Having a great dining area like this one designed by the talented Meredith Ellis makes mealtime even more fun. 🐝\\n\\n#meredithellis #digitalnomad\\n#boomers\\n#emptynesters\\n#travel\\n#anniversary\\n#birthday\\n#celebration\\n#vrbo\\n#sooke\\n#workation\\n#workfromhome\\n#bbq\\n#fire pit\\n#unwind\\n#ret http',\n",
       "       '@wahlstedt007 Good morning Sidney.  10.45 in UK.  Sunny.  So much rain recently.  This weekend there will be fireworks every night;  my poor cat gets so scared.',\n",
       "       '@nsun_victoria @suziezed I’d be curious to know if they showed up with two police officers as I witnessed in Topaz Park the other day with one cop kicking the tent. I can just imagine how frightening that experience must have been.',\n",
       "       'For those curious, most important Greater Victoria issues in the 2021 #yyj: \\n\\n1. Cost of living (moved down to 2 in 2022)\\n2. Housing (moved up to 1 in 2022)\\n3. Homelessness (moved down to 4 in 2022)\\n4. Addictions\\n5. Mental illness (unchanged at 5 in 2022) http http',\n",
       "       'Super Hot Deal! Get it for only $75.89! Compare: Home Depot ($137.47) | Belk ($145.25) | JCPenney ($176.99) | Macys ($183.59) http',\n",
       "       'Fairfield Residential Acquires Richmond Low-Income Multifamily Portfolio for $26M on November 7, 2022 at 2:51 pm Connect CRE – Robert\\xa0Khodadadian http',\n",
       "       \"Some 'light' research underway, prompted by a neighbour's corres w me &amp; @KristaLoughton. Informed by my years in #HongKong: 57% of ppl in TKO live in public rental housing or subsidized housing. A VERY dif govt model subsumes our 3 lvls into 1. If #yyj futur is ... /2\",\n",
       "       \"@GlobalBC @Dave_Eby Sounds like a great idea, please don't forget about Victoria BC. This city is burdened heavily every day with the unhoused flocking in from all over the country. We need provincial &amp; federal help &amp; not just decrepit hotels, left to fester, real treatment &amp; real housing\",\n",
       "       'Come visit Central Park Garage Express, home to our 3 stall garage! We love it here and hope you do too❤ http',\n",
       "       'Rueben wants to tell you about the @acuvatech UV-LED water purification systems. The ArrowMax provides clean drinking water in your RV, boat or home.\\n\\nAvailable at North Tonawanda, Orchard Park, and Wind Gap PA dealerships. Improve your drinking water next camping season! #acuva http',\n",
       "       'UNDER CONTRACT! Way to go, Mark Laino! This great home in Fairfield is now under contract!\\n-\\n#thebryantgroup http http',\n",
       "       'It’s Christmas Eve, 2022 in #yyj \\nand housing is still a human right…..Right?!!\\n💔💔💔💔💔💔💔💔\\n@Make_TheShift @HousingLogement @leilanifarha http',\n",
       "       '@jorymicah US Government has always been this way.\\nLike in Canada. Schools create economic slaves. Put people in categories they create. Including criminalized people. Racism and poor bashing leads in the ugly, currently making the enemy people who use drugs and struggle with mental health.',\n",
       "       \"@duane_pitt @PRGuy17 LNP donations scandal, police investigating bullying, branch stacking w far-right religious, sold schools, Fairfield &amp; 16 hospitals and Fishermen's Bend to developer mates cheap, ran down police &amp; health care numbers, wrote $1B East-West penalty clause when caretaker, mob links\",\n",
       "       'IT’S YOUR CHANCE TO WIN\\nIf you want to talk 🦃 about Cleveland 🏈 come do it with me @ the Union Home Mortgage Ultimate Tailgate Sun Nov 27 we’re hanging out at the Rock &amp; Roll HoF b4 the game against Tampa Bay. We’ll have plenty of food &amp; drink.\\nClick the link in my bio to enter http',\n",
       "       \"Police issue warning about group of 'out of control' juveniles in Rockland. // Put the little fuckers in jail…maybe they’ll Fock with the wrong person in the meantime. #justice #crime \\u2066@WGME\\u2069  http\",\n",
       "       'FREE GIRLS SOCCER CLINIC this Sunday 13 November at Clifton Park Synthetic, Victoria St West Brunswick at 10am (ages 6-16) promises to be a fun filled morning of soccer. For more info email girls@morelandcityfc.com.au Moreland City Football Club http',\n",
       "       \"And Beverly Renee Gonzales I wish this never happened but because of the targeting program in our state is why I lost my family I wish God never made guns because it was stolen out of my nephew's car\",\n",
       "       '@KathyHochul @breakfastclubam You talk about preventing crime when your bill is the reason violent repeat offenders are walking the street every day. This scum was arrested 25 times and was free to rape at least 3 women we know of. How dare you talk about Zeldin! Defend YOUR record!\\nhttps://t.co/Q9IVDkzCUu',\n",
       "       '\"Adding affordable homes and more rentals is by far the best way to “make Greater Victoria an even greater place to live,” according to 44% of survey respondents—by far the most popular priority this year.\"\\n\\nhttps://t.co/OzP8eUtYVG http',\n",
       "       '📢Join us on November 17, 2022, from 12-1 pm to discuss the living wage and how we can make life more affordable in our region. \\n\\n🔗https://t.co/tWKaMgzH3n\\n\\n@CSPC_Victoria @WorkerSol_BC @UmbrellaSociety @BigWheelBurger #uwsvi #unitedway #freeregistration #free http',\n",
       "       'The new constituency will consist of the following Southend City Council wards:\\n❖Belfairs\\n❖Blenheim Park\\n❖Chalkwell\\n❖Kursaal\\n❖Leigh\\n❖Milton\\n❖Prittlewell\\n❖Victoria\\n❖Westborough\\n❖West Leigh',\n",
       "       'As we age, it’s natural to become less social—but that doesn’t mean socialization is suddenly not as important to our health! Discover our companion care services to help your senior loved one thrive. http #companioncare #visitingangels #seniorcare http',\n",
       "       \"Central Division responding to '6X - Major Dist (Violence)' at 2400 blk Victory Park Ln | Beat 131 | 08:37:53 | http\",\n",
       "       'but they don\\'t need to be jab?\\n\"limited shelter space for couples or people with pets. There aren’t consistent rules about drugs across they will be able to use, forcing them to “choose between forced fentanyl withdrawal or sleeping outside unsheltered\"\\nhttps://t.co/4ubiFpgnl4',\n",
       "       '@fairfield_iowa @snowmanandlila what is your problem. people who are unhoused don’t deserve dignity and communication in your eyes?',\n",
       "       'Warde vs. Southington Live 2022 HS  Girs Volleyball\\nMustangs vs. Blue Knights\\nLive Streaming : http vs Southington\\nThe Southington (CT) varsity volleyball team has a home playoff match vs. Warde (Fairfield, CT) today @ 6p.',\n",
       "       '@dmtrubman That hospital parking lot is high on my personal list of worst Chicago land use. \\n\\nThere’s vacant retail under the L, an empty lot just south of it, and lots of vacant retail on Irving Park. I assume having a giant hospital parking lot instead of dense housing is hurting the area',\n",
       "       '@LydonCarlile @Nyquilsoup2 @icybubba @SYKULE24 @OfficialSlickYT @OrdinaryGamers Fun is subjective. When a large demographic of the fan/player base doesn’t enjoy it I don’t think you can make the case “it’s fun” anymore. The single player was poor. The game itself has received very little love from the devs. \\nI don’t get how you see gorge and think it’s saved',\n",
       "       '@Acyn The sad thing is people like Sidney Powell, Mike Lindell and Rudy Giuliani all promised tons of proof the election was stolen for 2 years now. For those voter that believe this..have you once asked ‘where is the proof’. If they can’t give it to you…they lied to you. Now what?',\n",
       "       \"This is a condo building at 79th &amp; Columbus, 1.5 miles due west (across Central Park) from my apartment window.\\nI just took this shot @ 27x zoom with my phone camera (hence the poor resolution).\\nThe reflecting sunrise (from behind me in the east) makes it look as if it's on fire! http\",\n",
       "       \"Let’s keep real Eric Adams used fear of crime to get himself elected. The GOP just stole his strategy and used it against Kathy and House candidates. It worked in the burbs.The map clearly changed from 2020 to 2022. Nassau, Rockland and Dutchess flipped Blue. http http @tify330 Folks have short memories. They keep forgetting that Adams was a republican for a long time until he was not good enough for their support. He's a blue so dem.and basically used crime to stroke white fear and it spread state wide . He basically helped republican candidates\",\n",
       "       \"@catherine___c No one's homeless from the floods here in Victoria, everything else was on Morrisons watch\",\n",
       "       \"the state of housing in Victoria is such that, in order to build more units of affordable seniors’ housing, seniors are being evicted from their current, existing affordable seniors’ housing units, without being offered or placed anywhere else. this is absolutely heartbreaking http http Dawson Heights cottages residents have known their eviction was coming. But now that it's here, some are scrambling to find a place to go. #YYJ http\",\n",
       "       'UPDATE: The Burnaby Home Office Storefront is closed as of  2pm today. This early closure is due to adverse weather conditions and road closures in Metro Vancouver. The office reopens Weds, Dec 28, 2022.\\n\\nFor shelter info, visit http #BCstorm http',\n",
       "       '@CandiedSquid @PeterMoskos @SteveBellow @ZaidJilani Love how you limited yourself to rush hour downtown,\\n\\nGo to Central Park at 2 AM in the morning. Show us a photo. Your odds of a crime is still 1 in a 100 million according to you. So you should have no fear.\\n\\nLOL.',\n",
       "       \"Are looking for #affordable accommodations for you and your #family this #holiday season? Look no further than Fairfield Inn #MyrtleBeach Broadway at the Beach! We're located in the heart of Myrtle Beach and offer free parking, Wi-Fi, and breakfast! http http\",\n",
       "       \"Great trails found in Split Rock state park stretch of Minnesota's North Shore \\n#MNnice #twinports #camping \\n http http\",\n",
       "       '@DGPMaharashtra @CPPuneCity Sir the crime partners of mohd afsar in 392 kasim haider &amp; jaggu irani is still wanted in Pune city like fir no:445/18 warje malwadi,fir no 516/18chaturshringi, fir no:127/18 Koregaon park, 515/18sinhagadh police station.they are in Thane central jail.',\n",
       "       'North Haven vs Fairfield Prep | Connecticut High School Football Live Stream\\nWatch Live HD :➡️🏈📺 http Fairfield Prep (Fairfield, CT) varsity football team has a home conference game vs. North Haven (CT) today @ 6p.',\n",
       "       '@R35YYj @saanich From BC Local Govt:\\nhttps://t.co/6ycNodJTEn\\n\\nStaff briefings, to further elected officials understanding of an issue, that do not constitute a material part of the decision-making process, would not typically be considered a municipal council or regional district board meeting.',\n",
       "       'The remains of a New Hampshire soldier missing since he was killed in the Korean War are heading home to Littleton. Sgt. Alfred H. Sidney was reported missing in action on May 18, 1951, after his unit was attacked near Hangye, South Korea. http',\n",
       "       'Ancillary roads on west side of park are closed due to poor conditions including North Inlet and Bowen Baker.',\n",
       "       '#TeamZay #itsallaboutthedogs #k9hour Sidney is looking for his furever home please ❤️🐾 http Name SIDNEYAge 7Location CHESTERRe-home NATIONWIDEDetails and enquiry form http retweet http',\n",
       "       'Latrobe City is set to become the home of table tennis in Victoria with two of the biggest events on the annual table tennis calendar to be hosted in Gippsland for the next eight years.\\n\\nRead more: http @visitgippsland @GippSport http',\n",
       "       \"SIGNIFICANT funds have been raised for Victoria's Portsea Camp which provides amazing holidays for underprivileged children. #maxbeck #beckfamily #portseacamps #charity #propertylegend #beckcorporation\\n\\nhttps://t.co/j4NHDPxPXx http\",\n",
       "       'Much of Victoria, Saanich &amp; @crd_bc #cycling lanes &amp; sidewalks are still unsafe‼️ #BCSnow #BCStorm ❄️Next to @saanich hall, disabled @BC_Housing tenants are isolated. #CabinFever #FoodSecurity #bcpoli #MentalHealth #Disability #accessibility #yyj 📹 video soon come 📹 http Victoria ain\\'t the only #yyjpoli disrespecting the #disabled &amp; #cycling ...both awarded lower priority than people &amp; planet killing motorist\\'s cars.@saanich \"not equipped to clear snow from any of the protected bike lanes\" 🤔\"Cyclists are to use caution\" 🤔...and the ♿️ use? http http',\n",
       "       'A new @CHFCanada study shows housing co-ops become more affordable over time compared to market rentals, leaving residents with money for healthy food, recreation + saving for retirement.  #coops #affordablehousing\\n\\nLearn more: http for Victoria: http',\n",
       "       \"Join us this weekend at the Annual Crime Prevention Summit where we'll join the North Newstead Association in discussing crime prevention in St. Louis! \\nWhen: Saturday, November 12th from 9am-noon. \\nWhere: O’Fallon Park YMCA\\nFB: http\",\n",
       "       'We lost a seat in our newly drawn district. Sean Patrick Maloney was a flawed candidate for sure but NY Post &amp; other media along with his opponent Mark Lawler and other Republicans inundated Rockland County with fear of Crime Rockland is the 3rd safest in America. People are dumb',\n",
       "       \"Greater Victoria's Salvation Army kettle donation program is in crisis after this week's winter storm cancelled in-person donation sites.  http\",\n",
       "       'Well I guess it’s Central Park it is I’m addicted to them burgers 🍔',\n",
       "       \"@DavidCFarebroth @ArmedCarp @MonicaCrowley Now 74 Court Cases lost. Lawyers have lost licenses, court subpoenas are flying. Republicans were outed as liars, and accused of crime now. Rudy or Sidney presented ZERO evidence and didn't claim they had any. Cyber Ninja even proved Biden won Arizona. GOP Stupidity has no limits\",\n",
       "       'As many know who read news, #NIMBY’s have hired lawyers and sued cities to stop shelters from going up. \\nHow bout we look at and use their applicable arguments In a claim against Federal Governments re: affects of legislated poverty and why our communities don’t want it?\\nRight? http http',\n",
       "       '*HISTORY OF LEKKI*                                                      \\n       Lekki is a city in Lagos State, Nigeria. It is located to the south-east of Lagos city. Lekki is a naturally formed peninsula, adjoining to its west Victoria Island and Ikoyi districts of Lagos, http',\n",
       "       'I’ve always connected w the idea of the dare devil and have made some poor decisions to prove that. Whether Evel Knievel or Bart wanting to jump the gorge I’ve always been inthralled by risk. in a parellel universe i’m definitely a stuntman http',\n",
       "       \"While I'll cheerfully leave catching Curious Gorge in the company of heretics to you, 'tis my duty to balance the books and fight poor unfortunate souls.\",\n",
       "       \"Huge shoutout to \\u2066@mssinenomine\\u2069 and Arley Cruthers! 😍\\n\\n\\u2069”Peters couldn't have been happier with how the week unfolded, but her real hope is that the government steps up and provides more – more food, more shelters, more housing.” http\",\n",
       "       'More than 2,500 residents completed this year’s Vital Signs survey and gave overall quality of life in #YYJ a B+ grade—citing the natural environment, climate, and parks as the Capital region’s best features—while housing received an F. \\n\\n@VicFoundation \\nhttps://t.co/g1N0hm7yCX',\n",
       "       \"Stunning home featured by Leading Real Estate Companies of the World® by DFH Real Estate Ltd. just 30 minutes from Victoria, BC's Inner Harbour. The luxury of your own castle. Contact for more information on this property at 732-212-0440! Home Details: http http\",\n",
       "       '@ethanmwolf Its going to be a rough 2 years for the few of us Paying our fair share...while Money power hungry Democrats gorge themselves whole standing on backs of poor they pander to',\n",
       "       \"It's Election Day and the polls are now open until 9pm!  If you haven’t voted early, make sure you get out and vote in this crucial election. \\n\\nFind your poll site here: http http\",\n",
       "       'World,\\n\\nWe have had criminal people who were arrested before moving to South Blue Hyacinth Dr. or Fairfield Village Cypress like Tobin Erp.\\n\\nGreyson Erp was arrested when he left our street and our street looks a lot better but we had two stolen cars few weeks ago. http',\n",
       "       \"@trash_addict That sort of door configuration saved Sidney Prescott's life twice.\",\n",
       "       '@ChairmanBuckley Coward, Victoria. If you’re going to creep on your burner, and post at my replies at the very least unblock me. I’d love to talk about your homeless plan and call it out like I did when you were running.. you know, the one that was exactly like the mayors.',\n",
       "       '@JtxRei Sunrise over Canada. I’m at camp in Fort Fairfield, Maine. The stars were out early last night. http',\n",
       "       '@RTodKelly An ambitious family unit in Tropical Canada  , I am poor and disabled but this kind of  world is just a few kms away.    The Gorge when I came for university could not even be swum in. It got cleaned up and in the last step of is as good  a specific type of oyster is back. http',\n",
       "       \"@PRESIDE28399984 @ThirdWorldBS 😅She's the only woman who can walk through Central Park at night and reduce the crime rate.\",\n",
       "       '@khadijah_shah @oksultan97 You actually feel for this great team. Kane Williamson is a wonderful captain &amp; very decent person. NZ just lost the tri-series against Pakistan in NZ just before the WC.  But they are no way chokers. Plus at the Sidney ground the crowd for Pakistan was like a home-crowd.',\n",
       "       \"It's election day! If you haven't voted early or by absentee, come out to vote until 9pm tonight! Not sure where to vote? Look up where here! http http\",\n",
       "       \"@BeschlossDC I voted in Fairfield, CT. I always go just as polls open at 6 a.m. Usually, I'm at most third or fourth in line. This time the line was out the front door of the school polling place. My wife said lines were still long when she went at lunchtime. The electorate seems engaged!\",\n",
       "       'I’m at Palm Beach Colony — a manufactured home park in central West Palm Beach. About 1/3 of homes have boarded windows ahead of #TropicalStormNicole \\n\\nHigher winds and rain are coming in waves here as the bands of Nicole spin offshore. Follow along for coverage for the @pbpost http http',\n",
       "       '\"the real cause of the housing shortage is a systemic failure to ensure enough stock was constructed, a problem he says goes back decades.\" Housing approvals choked by municipalities eg #Saanich #OakBay #CSaan etc   http  http #yyj #bcpoli',\n",
       "       '@VicFoundation \\nDid you know that the Victoria Foundation quietly invests millions in real estate via hedge funds to bulk up their portfolio?\\nhttps://t.co/cr29Tht6xQ',\n",
       "       'RT @VicBuilders: Just sent a reno project to VRBA builders via our popular Expression of Interest http Try it for your new home or renovation! #Saanich #OakBay #Langford #CSaan #ViewRoyal #Colwood #Sooke #NSaan #Esquimalt #Metchosin #HighlandsBC #VictoriaBC #…',\n",
       "       '“I do this work because everyone deserves safety and kindness. No one chooses to be homeless, mentally ill or to struggle with substance use.” 2/4',\n",
       "       \"#Charlotte if you're heading to the #DayoftheDead festival at Camp North End. We came up with a map to show you where you can park. Both are within short walking distance of the Ford building, where the festival will be located around. Look for the water tower! http\",\n",
       "       \"@TakeshiKovac69 Ahhh the place I dubbed 'Dua Lipa Gorge'?? If i remember correctly, you'll have to fight three different bosses of a hilichurl camp in three different directions from it to unlock each seal? I suck at explaining but I think it's called Tri Seal\",\n",
       "       'I am very disappointed. Leadership at city level &amp; Coalition to End Homelessness dropped the ball here. http',\n",
       "       \"@MillerStanIL @TomEDewey1948 After redistricting was done, SPM's home ended up being in the new NY-17. Problem is, he never represented about 70% of the new district. It now included Rockland County. The Ortho Jewish population, if I'm not mistaking, are more concentrated in Rockland than it is for Orange 3/\",\n",
       "       'Please share this message @BC_Housing @HomeForHope @OurPlaceSociety @VicCoolAid @SalArmyVicARC #yyj #warmingcentre #yyjextremeweather',\n",
       "       'NORTH TEXAS CAMP &amp; SCRIMMAGE \\n⭐️CAMP⭐️  ⭐️CAMP⭐️  ⭐️CAMP⭐️  ⭐️CAMP⭐️\\n\\n🥎CAMP INFORMATION🥎\\n(Saturday Evening) November 12, 2022\\nNorth Lakes Park       \\n6:30pm - 9:45pm\\n\\nNorth Lakes Park \\n2001 W Windsor Dr\\nDenton, TX 76201\\n\\nCamp Registration Link: http http',\n",
       "       '@TheBackPackPro1 @SeeSpringVic @HomeForHope @nsun_victoria @HousingLogement @Make_TheShift 247 places of worship in YYJ according to the yellow pages, do any of them open their doors. Are any of the organizations who \"help\" the homeless voluntary opening their doors tonight.',\n",
       "       'BC Housing Minister Ravi Kahlon  announces changed for the Residential Tenancy Branch to improve the dispute resolution process. Budget will be increased 40% and up to 50 new full-time employees will be hired, including   doubling size of the Compliance unit.  #bcpoli',\n",
       "       \"This is Canada's most expensive real estate\\n\\nAlways will be because climate/geography\\n\\nPeople sacrifice things/compete to live here\\n\\nIf they don't/won't\\n\\nThen, Medicine Hat \\n\\nSo, housing cheaper &amp; incomes higher elsewhere because economics\\n\\n#yyjpoli\\n#yyj\\n\\nhttps://t.co/rW4SjNhqTB\",\n",
       "       '#crimedoc #actor #goatee \\nI’ll be working on a new project this week - a reenactment and documentary of the Heather Elvis missing persons case.  I’ll be playing “Sidney Moorer”, one of the main suspects in the case. #realcrime #crimedocumentaries #drama #actorslife #goatee #crime http',\n",
       "       \"@Adam_Stirling One problem is the suburbs don't want to support Victoria's infrastructure, so Victoria has to continually expand its tax base. If we were amalgamated, however, there would be less need for housing in downtown.\",\n",
       "       '@TalktoARYZE @Magnatiles @LeonPlett I see 33 affordable rental units right there... breath life into this, and build it on Oak Bay Ave. Dibs 23rd floor micro loft.\\n\\nYou could call it, The Needle... as an homage to repairing the tweed that will be shredded when you start developing multi-family units in every hood.',\n",
       "       'BDC Finals\\n\\nJohnston City 28\\nALAH 8\\n\\nSesser-Valier 0\\nCamp Point 24\\n\\nPana 68\\nFairfield 50',\n",
       "       \"A man went out Tuesday afternoon for a hike through Nyack Beach State Park and didn't return home.\\n\\nOn Wednesday morning a jogger heard his calls for help.\\n\\n@MikeRandall845 has the story on the Rockland rescue.\\n\\nhttps://t.co/llgNq1ksYM @lohud @clarkstownpd @NYstateparks\",\n",
       "       '\"Greater Victorians gave housing in the region a failing grade...first F...in the study’s 17 years.\" Actually Housing Needs Reports show #Langford gets A+ while #Saanich #OakBay #CSaan #NSaan etc get the F. Read http http #yyj #bcpoli',\n",
       "       'Situated on a large waterfront lot, minutes from hwy 400, this 2 bed, 2 bath home is perfect for a year-round cottage or residence.\\n\\n📍 142 Oak Bay Road, Georgian Bay\\n🔗 http #homeforsale #waterfront #georgianbay #portsevern #georgianbayrealestate #realestate http',\n",
       "       \"Today's @cfax1070 news poll: Do you agree with the F-grade housing received in the 17th annual Victoria vital signs report? #yyj #housing\",\n",
       "       \"@gasugasu1984 Don't think it's so bad setting the ambition. Agree it's likely to never be reached in the time - theyd have to stop all other construction. A shame seems to be most of the country is in need of more housing at the affordable &amp; social level. Theyve at lead built some in Victoria\",\n",
       "       '@Cumbriapolice very nice of two police vans to drive past the poor young girl who’d broke down at Hollywood park roundabout tonight &amp; not help, I stopped &amp; help give the car a push so it wasn’t blocking the junction any more. Cars beeping at her &amp; no one helping',\n",
       "       'Reminded today of SoS for Defence #gavinwilliamson spending time tweeting at me that my petition to save Royal Marines’ Norton Manor Camp had nothing to do with his u-turn to save it. Hope that’s clear. NB veterans had a different view: http http',\n",
       "       '24 Hours Left -  Team Leader - Aquatics - District of Saanich (Saanich, BC) http',\n",
       "       'US 20: Wet pavement from I-84; I-84B Mountain Home (Mountain Home) to Cat Creek Summit (26m W of Fairfield). Light snow, Large animals on roadway. http',\n",
       "       'Book a stay-cation at the picturesque Twin Coves Park! Off season pricing is now available! Located on 243-acres on the north shore of Grapevine Lake, the park boasts 19 furnished cabins, 22 RV slips, and 6 primitive tent campsites. Learn more &amp; book at http http',\n",
       "       '@Luv_My_Celtics @celtics My locked screen, taken on my last trip to the states in August 2014. At that point in time North Station had changed dramatically from my last visit 1999. Paul Pierce rookie season ☘️☘️☘️😊😊. I was in Boston at that time to see Tom Petty at Fenway Park. 🤩🤩🎇🎇🎆🎆😱😱 http',\n",
       "       '@Moose_PC Judges names are those crooks in San Diego who are kidnapping little poor children from us through the court system illegally: Michael J Popkins Browder Willis; attorneys Mary Livingston Amanda Gonzales Thomas Kisiel; social worker Naomi Wade etc are the CRIMINALS IN CALIFORNIA! http'],\n",
       "      dtype='<U571')"
      ]
     },
     "execution_count": 45,
     "metadata": {},
     "output_type": "execute_result"
    }
   ],
   "source": []
  },
  {
   "cell_type": "code",
   "execution_count": 43,
   "metadata": {},
   "outputs": [
    {
     "data": {
      "text/html": [
       "<div>\n",
       "<style scoped>\n",
       "    .dataframe tbody tr th:only-of-type {\n",
       "        vertical-align: middle;\n",
       "    }\n",
       "\n",
       "    .dataframe tbody tr th {\n",
       "        vertical-align: top;\n",
       "    }\n",
       "\n",
       "    .dataframe thead th {\n",
       "        text-align: right;\n",
       "    }\n",
       "</style>\n",
       "<table border=\"1\" class=\"dataframe\">\n",
       "  <thead>\n",
       "    <tr style=\"text-align: right;\">\n",
       "      <th></th>\n",
       "      <th>Text</th>\n",
       "    </tr>\n",
       "  </thead>\n",
       "  <tbody>\n",
       "    <tr>\n",
       "      <th>0</th>\n",
       "      <td>\"the region needs rentals, townhouses, duplexe...</td>\n",
       "    </tr>\n",
       "    <tr>\n",
       "      <th>1</th>\n",
       "      <td>Hospitality students from Camosun College dish...</td>\n",
       "    </tr>\n",
       "    <tr>\n",
       "      <th>2</th>\n",
       "      <td>@dharmabrat @IslandFamily5 @d_brokenshire @Glo...</td>\n",
       "    </tr>\n",
       "    <tr>\n",
       "      <th>3</th>\n",
       "      <td>\"58% of Canadians believe that homelessness is...</td>\n",
       "    </tr>\n",
       "    <tr>\n",
       "      <th>4</th>\n",
       "      <td>We just donated to Greater Victoria Coalition ...</td>\n",
       "    </tr>\n",
       "    <tr>\n",
       "      <th>5</th>\n",
       "      <td>Only 16% get that               Government pol...</td>\n",
       "    </tr>\n",
       "    <tr>\n",
       "      <th>6</th>\n",
       "      <td>@Covid_Stinks Why would someone who lives in S...</td>\n",
       "    </tr>\n",
       "    <tr>\n",
       "      <th>7</th>\n",
       "      <td>@nsun_victoria @suziezed I’d be curious to kno...</td>\n",
       "    </tr>\n",
       "    <tr>\n",
       "      <th>8</th>\n",
       "      <td>For those curious, most important Greater Vict...</td>\n",
       "    </tr>\n",
       "    <tr>\n",
       "      <th>9</th>\n",
       "      <td>Some 'light' research underway, prompted by a ...</td>\n",
       "    </tr>\n",
       "    <tr>\n",
       "      <th>10</th>\n",
       "      <td>@GlobalBC @Dave_Eby Sounds like a great idea, ...</td>\n",
       "    </tr>\n",
       "    <tr>\n",
       "      <th>11</th>\n",
       "      <td>It’s Christmas Eve, 2022 in #yyj \\nand housing...</td>\n",
       "    </tr>\n",
       "    <tr>\n",
       "      <th>12</th>\n",
       "      <td>\"Adding affordable homes and more rentals is b...</td>\n",
       "    </tr>\n",
       "    <tr>\n",
       "      <th>13</th>\n",
       "      <td>📢Join us on November 17, 2022, from 12-1 pm to...</td>\n",
       "    </tr>\n",
       "    <tr>\n",
       "      <th>14</th>\n",
       "      <td>but they don't need to be jab?\\n\"limited shelt...</td>\n",
       "    </tr>\n",
       "    <tr>\n",
       "      <th>15</th>\n",
       "      <td>@fairfield_iowa @snowmanandlila what is your p...</td>\n",
       "    </tr>\n",
       "    <tr>\n",
       "      <th>16</th>\n",
       "      <td>@catherine___c No one's homeless from the floo...</td>\n",
       "    </tr>\n",
       "    <tr>\n",
       "      <th>17</th>\n",
       "      <td>the state of housing in Victoria is such that,...</td>\n",
       "    </tr>\n",
       "    <tr>\n",
       "      <th>18</th>\n",
       "      <td>UPDATE: The Burnaby Home Office Storefront is ...</td>\n",
       "    </tr>\n",
       "    <tr>\n",
       "      <th>19</th>\n",
       "      <td>@R35YYj @saanich From BC Local Govt:\\nhttps://...</td>\n",
       "    </tr>\n",
       "    <tr>\n",
       "      <th>20</th>\n",
       "      <td>SIGNIFICANT funds have been raised for Victori...</td>\n",
       "    </tr>\n",
       "    <tr>\n",
       "      <th>21</th>\n",
       "      <td>Much of Victoria, Saanich &amp;amp; @crd_bc #cycli...</td>\n",
       "    </tr>\n",
       "    <tr>\n",
       "      <th>22</th>\n",
       "      <td>A new @CHFCanada study shows housing co-ops be...</td>\n",
       "    </tr>\n",
       "    <tr>\n",
       "      <th>23</th>\n",
       "      <td>Greater Victoria's Salvation Army kettle donat...</td>\n",
       "    </tr>\n",
       "    <tr>\n",
       "      <th>24</th>\n",
       "      <td>As many know who read news, #NIMBY’s have hire...</td>\n",
       "    </tr>\n",
       "    <tr>\n",
       "      <th>25</th>\n",
       "      <td>Huge shoutout to ⁦@mssinenomine⁩ and Arley Cru...</td>\n",
       "    </tr>\n",
       "    <tr>\n",
       "      <th>26</th>\n",
       "      <td>More than 2,500 residents completed this year’...</td>\n",
       "    </tr>\n",
       "    <tr>\n",
       "      <th>27</th>\n",
       "      <td>@ChairmanBuckley Coward, Victoria. If you’re g...</td>\n",
       "    </tr>\n",
       "    <tr>\n",
       "      <th>28</th>\n",
       "      <td>@RTodKelly An ambitious family unit in Tropica...</td>\n",
       "    </tr>\n",
       "    <tr>\n",
       "      <th>29</th>\n",
       "      <td>\"the real cause of the housing shortage is a s...</td>\n",
       "    </tr>\n",
       "    <tr>\n",
       "      <th>30</th>\n",
       "      <td>@VicFoundation \\nDid you know that the Victori...</td>\n",
       "    </tr>\n",
       "    <tr>\n",
       "      <th>31</th>\n",
       "      <td>“I do this work because everyone deserves safe...</td>\n",
       "    </tr>\n",
       "    <tr>\n",
       "      <th>32</th>\n",
       "      <td>I am very disappointed. Leadership at city lev...</td>\n",
       "    </tr>\n",
       "    <tr>\n",
       "      <th>33</th>\n",
       "      <td>Please share this message @BC_Housing @HomeFor...</td>\n",
       "    </tr>\n",
       "    <tr>\n",
       "      <th>34</th>\n",
       "      <td>@TheBackPackPro1 @SeeSpringVic @HomeForHope @n...</td>\n",
       "    </tr>\n",
       "    <tr>\n",
       "      <th>35</th>\n",
       "      <td>BC Housing Minister Ravi Kahlon  announces cha...</td>\n",
       "    </tr>\n",
       "    <tr>\n",
       "      <th>36</th>\n",
       "      <td>This is Canada's most expensive real estate\\n\\...</td>\n",
       "    </tr>\n",
       "    <tr>\n",
       "      <th>37</th>\n",
       "      <td>@Adam_Stirling One problem is the suburbs don'...</td>\n",
       "    </tr>\n",
       "    <tr>\n",
       "      <th>38</th>\n",
       "      <td>@TalktoARYZE @Magnatiles @LeonPlett I see 33 a...</td>\n",
       "    </tr>\n",
       "    <tr>\n",
       "      <th>39</th>\n",
       "      <td>\"Greater Victorians gave housing in the region...</td>\n",
       "    </tr>\n",
       "    <tr>\n",
       "      <th>40</th>\n",
       "      <td>Today's @cfax1070 news poll: Do you agree with...</td>\n",
       "    </tr>\n",
       "    <tr>\n",
       "      <th>41</th>\n",
       "      <td>@gasugasu1984 Don't think it's so bad setting ...</td>\n",
       "    </tr>\n",
       "  </tbody>\n",
       "</table>\n",
       "</div>"
      ],
      "text/plain": [
       "                                                 Text\n",
       "0   \"the region needs rentals, townhouses, duplexe...\n",
       "1   Hospitality students from Camosun College dish...\n",
       "2   @dharmabrat @IslandFamily5 @d_brokenshire @Glo...\n",
       "3   \"58% of Canadians believe that homelessness is...\n",
       "4   We just donated to Greater Victoria Coalition ...\n",
       "5   Only 16% get that               Government pol...\n",
       "6   @Covid_Stinks Why would someone who lives in S...\n",
       "7   @nsun_victoria @suziezed I’d be curious to kno...\n",
       "8   For those curious, most important Greater Vict...\n",
       "9   Some 'light' research underway, prompted by a ...\n",
       "10  @GlobalBC @Dave_Eby Sounds like a great idea, ...\n",
       "11  It’s Christmas Eve, 2022 in #yyj \\nand housing...\n",
       "12  \"Adding affordable homes and more rentals is b...\n",
       "13  📢Join us on November 17, 2022, from 12-1 pm to...\n",
       "14  but they don't need to be jab?\\n\"limited shelt...\n",
       "15  @fairfield_iowa @snowmanandlila what is your p...\n",
       "16  @catherine___c No one's homeless from the floo...\n",
       "17  the state of housing in Victoria is such that,...\n",
       "18  UPDATE: The Burnaby Home Office Storefront is ...\n",
       "19  @R35YYj @saanich From BC Local Govt:\\nhttps://...\n",
       "20  SIGNIFICANT funds have been raised for Victori...\n",
       "21  Much of Victoria, Saanich &amp; @crd_bc #cycli...\n",
       "22  A new @CHFCanada study shows housing co-ops be...\n",
       "23  Greater Victoria's Salvation Army kettle donat...\n",
       "24  As many know who read news, #NIMBY’s have hire...\n",
       "25  Huge shoutout to ⁦@mssinenomine⁩ and Arley Cru...\n",
       "26  More than 2,500 residents completed this year’...\n",
       "27  @ChairmanBuckley Coward, Victoria. If you’re g...\n",
       "28  @RTodKelly An ambitious family unit in Tropica...\n",
       "29  \"the real cause of the housing shortage is a s...\n",
       "30  @VicFoundation \\nDid you know that the Victori...\n",
       "31  “I do this work because everyone deserves safe...\n",
       "32  I am very disappointed. Leadership at city lev...\n",
       "33  Please share this message @BC_Housing @HomeFor...\n",
       "34  @TheBackPackPro1 @SeeSpringVic @HomeForHope @n...\n",
       "35  BC Housing Minister Ravi Kahlon  announces cha...\n",
       "36  This is Canada's most expensive real estate\\n\\...\n",
       "37  @Adam_Stirling One problem is the suburbs don'...\n",
       "38  @TalktoARYZE @Magnatiles @LeonPlett I see 33 a...\n",
       "39  \"Greater Victorians gave housing in the region...\n",
       "40  Today's @cfax1070 news poll: Do you agree with...\n",
       "41  @gasugasu1984 Don't think it's so bad setting ..."
      ]
     },
     "execution_count": 43,
     "metadata": {},
     "output_type": "execute_result"
    }
   ],
   "source": [
    "array_filtered = test_x[preds == 1] # data to keep\n",
    "df_filtered = pd.DataFrame(array_filtered, columns = ['Text'])\n",
    "df_filtered"
   ]
  },
  {
   "cell_type": "code",
   "execution_count": null,
   "metadata": {},
   "outputs": [],
   "source": []
  }
 ],
 "metadata": {
  "kernelspec": {
   "display_name": "Python 3",
   "language": "python",
   "name": "python3"
  },
  "language_info": {
   "codemirror_mode": {
    "name": "ipython",
    "version": 3
   },
   "file_extension": ".py",
   "mimetype": "text/x-python",
   "name": "python",
   "nbconvert_exporter": "python",
   "pygments_lexer": "ipython3",
   "version": "3.8.3"
  }
 },
 "nbformat": 4,
 "nbformat_minor": 4
}
