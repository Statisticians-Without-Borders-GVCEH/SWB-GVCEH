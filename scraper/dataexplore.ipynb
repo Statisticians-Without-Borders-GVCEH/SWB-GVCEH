{
 "cells": [
  {
   "cell_type": "code",
   "execution_count": 15,
   "metadata": {},
   "outputs": [
    {
     "name": "stdout",
     "output_type": "stream",
     "text": [
      "Index(['text', 'scrape_time', 'tweet_id', 'created_at', 'reply_count',\n",
      "       'quote_count', 'like_count', 'retweet_count', 'geo_full_name', 'geo_id',\n",
      "       'geo_bbox', 'tweet_coordinate', 'username', 'num_followers',\n",
      "       'search_keywords', 'search_neighbourhood', 'sentiment', 'score'],\n",
      "      dtype='object')\n",
      "(1511, 18)\n"
     ]
    }
   ],
   "source": [
    "import pandas as pd \n",
    "\n",
    "filename = \"..\\data\\processed\\GVCEH-2022-06-20-tweet-cleaned-sentiment.csv\"\n",
    "\n",
    "df = pd.read_csv(filename)\n",
    "\n",
    "#print(df.head(5))\n",
    "print(df.columns)\n",
    "print(df.shape)\n"
   ]
  },
  {
   "cell_type": "code",
   "execution_count": 16,
   "metadata": {},
   "outputs": [
    {
     "name": "stdout",
     "output_type": "stream",
     "text": [
      "['Positive' 'Neutral' 'Negative']\n"
     ]
    }
   ],
   "source": [
    "print(df.sentiment.unique())"
   ]
  },
  {
   "cell_type": "code",
   "execution_count": 17,
   "metadata": {},
   "outputs": [
    {
     "name": "stdout",
     "output_type": "stream",
     "text": [
      "Neutral     651\n",
      "Negative    494\n",
      "Positive    366\n",
      "Name: sentiment, dtype: int64\n"
     ]
    }
   ],
   "source": [
    "print(df.sentiment.value_counts())"
   ]
  },
  {
   "cell_type": "code",
   "execution_count": 18,
   "metadata": {},
   "outputs": [],
   "source": [
    "newdf = df.groupby('sentiment').sample(n=72, random_state=1)"
   ]
  },
  {
   "cell_type": "code",
   "execution_count": 19,
   "metadata": {},
   "outputs": [
    {
     "data": {
      "text/plain": [
       "(207, 18)"
      ]
     },
     "execution_count": 19,
     "metadata": {},
     "output_type": "execute_result"
    }
   ],
   "source": [
    "newdf.shape"
   ]
  },
  {
   "cell_type": "code",
   "execution_count": 20,
   "metadata": {},
   "outputs": [
    {
     "data": {
      "text/plain": [
       "Negative    69\n",
       "Neutral     69\n",
       "Positive    69\n",
       "Name: sentiment, dtype: int64"
      ]
     },
     "execution_count": 20,
     "metadata": {},
     "output_type": "execute_result"
    }
   ],
   "source": [
    "newdf.sentiment.value_counts()"
   ]
  },
  {
   "cell_type": "code",
   "execution_count": 21,
   "metadata": {},
   "outputs": [
    {
     "data": {
      "text/html": [
       "<div>\n",
       "<style scoped>\n",
       "    .dataframe tbody tr th:only-of-type {\n",
       "        vertical-align: middle;\n",
       "    }\n",
       "\n",
       "    .dataframe tbody tr th {\n",
       "        vertical-align: top;\n",
       "    }\n",
       "\n",
       "    .dataframe thead th {\n",
       "        text-align: right;\n",
       "    }\n",
       "</style>\n",
       "<table border=\"1\" class=\"dataframe\">\n",
       "  <thead>\n",
       "    <tr style=\"text-align: right;\">\n",
       "      <th></th>\n",
       "      <th>text</th>\n",
       "      <th>scrape_time</th>\n",
       "      <th>tweet_id</th>\n",
       "      <th>created_at</th>\n",
       "      <th>reply_count</th>\n",
       "      <th>quote_count</th>\n",
       "      <th>like_count</th>\n",
       "      <th>retweet_count</th>\n",
       "      <th>geo_full_name</th>\n",
       "      <th>geo_id</th>\n",
       "      <th>geo_bbox</th>\n",
       "      <th>tweet_coordinate</th>\n",
       "      <th>username</th>\n",
       "      <th>num_followers</th>\n",
       "      <th>search_keywords</th>\n",
       "      <th>search_neighbourhood</th>\n",
       "      <th>sentiment</th>\n",
       "      <th>score</th>\n",
       "      <th>score_matches</th>\n",
       "      <th>relevant</th>\n",
       "    </tr>\n",
       "  </thead>\n",
       "  <tbody>\n",
       "    <tr>\n",
       "      <th>1059</th>\n",
       "      <td>Trying to get these water balloons ready to th...</td>\n",
       "      <td>2022-06-20 13:34:28.583074</td>\n",
       "      <td>1538206160230154240</td>\n",
       "      <td>2022-06-18 17:05:01+00:00</td>\n",
       "      <td>0</td>\n",
       "      <td>0</td>\n",
       "      <td>0</td>\n",
       "      <td>0</td>\n",
       "      <td>NaN</td>\n",
       "      <td>NaN</td>\n",
       "      <td>NaN</td>\n",
       "      <td>NaN</td>\n",
       "      <td>ward1wilson</td>\n",
       "      <td>5243</td>\n",
       "      <td>Victoria (bc housing OR downtown victoria busi...</td>\n",
       "      <td>Victoria</td>\n",
       "      <td>Negative</td>\n",
       "      <td>0.547680</td>\n",
       "      <td></td>\n",
       "      <td></td>\n",
       "    </tr>\n",
       "    <tr>\n",
       "      <th>314</th>\n",
       "      <td>“I’m annoyed, I’m angry.” A woman says her sen...</td>\n",
       "      <td>2022-06-20 13:32:54.265924</td>\n",
       "      <td>1538869285795221504</td>\n",
       "      <td>2022-06-20 13:00:03+00:00</td>\n",
       "      <td>0</td>\n",
       "      <td>0</td>\n",
       "      <td>0</td>\n",
       "      <td>1</td>\n",
       "      <td>NaN</td>\n",
       "      <td>NaN</td>\n",
       "      <td>NaN</td>\n",
       "      <td>NaN</td>\n",
       "      <td>Queen_City_News</td>\n",
       "      <td>41927</td>\n",
       "      <td>(esquimalt OR north park OR millstream OR vict...</td>\n",
       "      <td>esquimalt OR north park OR millstream OR victo...</td>\n",
       "      <td>Negative</td>\n",
       "      <td>0.917478</td>\n",
       "      <td></td>\n",
       "      <td></td>\n",
       "    </tr>\n",
       "    <tr>\n",
       "      <th>510</th>\n",
       "      <td>@TalktoARYZE Even factoring in self-interest I...</td>\n",
       "      <td>2022-06-20 13:33:33.308604</td>\n",
       "      <td>1537573721719787520</td>\n",
       "      <td>2022-06-16 23:11:56+00:00</td>\n",
       "      <td>2</td>\n",
       "      <td>0</td>\n",
       "      <td>4</td>\n",
       "      <td>0</td>\n",
       "      <td>NaN</td>\n",
       "      <td>NaN</td>\n",
       "      <td>NaN</td>\n",
       "      <td>NaN</td>\n",
       "      <td>HomesForLiving_</td>\n",
       "      <td>941</td>\n",
       "      <td>(saanich OR uplands OR quadra village OR centr...</td>\n",
       "      <td>saanich OR uplands OR quadra village OR centra...</td>\n",
       "      <td>Negative</td>\n",
       "      <td>0.795842</td>\n",
       "      <td></td>\n",
       "      <td></td>\n",
       "    </tr>\n",
       "    <tr>\n",
       "      <th>615</th>\n",
       "      <td>sorry. no, i won't be digging a one-meter deep...</td>\n",
       "      <td>2022-06-20 13:33:52.836182</td>\n",
       "      <td>1537233167349710849</td>\n",
       "      <td>2022-06-16 00:38:42+00:00</td>\n",
       "      <td>0</td>\n",
       "      <td>0</td>\n",
       "      <td>0</td>\n",
       "      <td>0</td>\n",
       "      <td>NaN</td>\n",
       "      <td>NaN</td>\n",
       "      <td>NaN</td>\n",
       "      <td>NaN</td>\n",
       "      <td>davidsaidthis</td>\n",
       "      <td>335</td>\n",
       "      <td>(salt spring island OR burnside-gorge OR rock ...</td>\n",
       "      <td>salt spring island OR burnside-gorge OR rock b...</td>\n",
       "      <td>Negative</td>\n",
       "      <td>0.768801</td>\n",
       "      <td></td>\n",
       "      <td></td>\n",
       "    </tr>\n",
       "    <tr>\n",
       "      <th>1399</th>\n",
       "      <td>I'm pretty f##ckin sure that we should get a W...</td>\n",
       "      <td>2022-06-20 13:37:22.119167</td>\n",
       "      <td>1536488932946620416</td>\n",
       "      <td>2022-06-13 23:21:22+00:00</td>\n",
       "      <td>0</td>\n",
       "      <td>0</td>\n",
       "      <td>4</td>\n",
       "      <td>0</td>\n",
       "      <td>NaN</td>\n",
       "      <td>NaN</td>\n",
       "      <td>NaN</td>\n",
       "      <td>NaN</td>\n",
       "      <td>BeaconHillFolks</td>\n",
       "      <td>1110</td>\n",
       "      <td>(from:beaconhillfolks OR from:housesooke OR fr...</td>\n",
       "      <td>individual</td>\n",
       "      <td>Negative</td>\n",
       "      <td>0.915635</td>\n",
       "      <td></td>\n",
       "      <td></td>\n",
       "    </tr>\n",
       "  </tbody>\n",
       "</table>\n",
       "</div>"
      ],
      "text/plain": [
       "                                                   text  \\\n",
       "1059  Trying to get these water balloons ready to th...   \n",
       "314   “I’m annoyed, I’m angry.” A woman says her sen...   \n",
       "510   @TalktoARYZE Even factoring in self-interest I...   \n",
       "615   sorry. no, i won't be digging a one-meter deep...   \n",
       "1399  I'm pretty f##ckin sure that we should get a W...   \n",
       "\n",
       "                     scrape_time             tweet_id  \\\n",
       "1059  2022-06-20 13:34:28.583074  1538206160230154240   \n",
       "314   2022-06-20 13:32:54.265924  1538869285795221504   \n",
       "510   2022-06-20 13:33:33.308604  1537573721719787520   \n",
       "615   2022-06-20 13:33:52.836182  1537233167349710849   \n",
       "1399  2022-06-20 13:37:22.119167  1536488932946620416   \n",
       "\n",
       "                     created_at  reply_count  quote_count  like_count  \\\n",
       "1059  2022-06-18 17:05:01+00:00            0            0           0   \n",
       "314   2022-06-20 13:00:03+00:00            0            0           0   \n",
       "510   2022-06-16 23:11:56+00:00            2            0           4   \n",
       "615   2022-06-16 00:38:42+00:00            0            0           0   \n",
       "1399  2022-06-13 23:21:22+00:00            0            0           4   \n",
       "\n",
       "      retweet_count geo_full_name geo_id geo_bbox tweet_coordinate  \\\n",
       "1059              0           NaN    NaN      NaN              NaN   \n",
       "314               1           NaN    NaN      NaN              NaN   \n",
       "510               0           NaN    NaN      NaN              NaN   \n",
       "615               0           NaN    NaN      NaN              NaN   \n",
       "1399              0           NaN    NaN      NaN              NaN   \n",
       "\n",
       "             username  num_followers  \\\n",
       "1059      ward1wilson           5243   \n",
       "314   Queen_City_News          41927   \n",
       "510   HomesForLiving_            941   \n",
       "615     davidsaidthis            335   \n",
       "1399  BeaconHillFolks           1110   \n",
       "\n",
       "                                        search_keywords  \\\n",
       "1059  Victoria (bc housing OR downtown victoria busi...   \n",
       "314   (esquimalt OR north park OR millstream OR vict...   \n",
       "510   (saanich OR uplands OR quadra village OR centr...   \n",
       "615   (salt spring island OR burnside-gorge OR rock ...   \n",
       "1399  (from:beaconhillfolks OR from:housesooke OR fr...   \n",
       "\n",
       "                                   search_neighbourhood sentiment     score  \\\n",
       "1059                                           Victoria  Negative  0.547680   \n",
       "314   esquimalt OR north park OR millstream OR victo...  Negative  0.917478   \n",
       "510   saanich OR uplands OR quadra village OR centra...  Negative  0.795842   \n",
       "615   salt spring island OR burnside-gorge OR rock b...  Negative  0.768801   \n",
       "1399                                         individual  Negative  0.915635   \n",
       "\n",
       "     score_matches relevant  \n",
       "1059                         \n",
       "314                          \n",
       "510                          \n",
       "615                          \n",
       "1399                         "
      ]
     },
     "execution_count": 21,
     "metadata": {},
     "output_type": "execute_result"
    }
   ],
   "source": [
    "newdf['score_matches'] = \"\"\n",
    "newdf['relevant'] = \"\"\n",
    "newdf.head(5)"
   ]
  },
  {
   "cell_type": "code",
   "execution_count": null,
   "metadata": {},
   "outputs": [],
   "source": []
  }
 ],
 "metadata": {
  "interpreter": {
   "hash": "f73d1433f8600d954573cbf7ddad1506b35140432c4a4e76186b8ad4d44e5720"
  },
  "kernelspec": {
   "display_name": "Python 3.9.12 64-bit (windows store)",
   "language": "python",
   "name": "python3"
  },
  "language_info": {
   "codemirror_mode": {
    "name": "ipython",
    "version": 3
   },
   "file_extension": ".py",
   "mimetype": "text/x-python",
   "name": "python",
   "nbconvert_exporter": "python",
   "pygments_lexer": "ipython3",
   "version": "3.9.13"
  },
  "orig_nbformat": 4
 },
 "nbformat": 4,
 "nbformat_minor": 2
}
