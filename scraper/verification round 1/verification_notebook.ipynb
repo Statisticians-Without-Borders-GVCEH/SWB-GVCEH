{
 "cells": [
  {
   "cell_type": "code",
   "execution_count": 30,
   "metadata": {},
   "outputs": [
    {
     "name": "stdout",
     "output_type": "stream",
     "text": [
      "Index(['text', 'scrape_time', 'tweet_id', 'created_at', 'reply_count',\n",
      "       'quote_count', 'like_count', 'retweet_count', 'geo_full_name', 'geo_id',\n",
      "       'geo_bbox', 'tweet_coordinate', 'username', 'num_followers',\n",
      "       'search_keywords', 'search_neighbourhood', 'sentiment', 'score'],\n",
      "      dtype='object')\n",
      "(1511, 18)\n"
     ]
    }
   ],
   "source": [
    "import pandas as pd \n",
    "\n",
    "filename = \"..\\data\\processed\\GVCEH-2022-06-20-tweet-cleaned-sentiment.csv\"\n",
    "\n",
    "df = pd.read_csv(filename)\n",
    "\n",
    "#print(df.head(5))\n",
    "print(df.columns)\n",
    "print(df.shape)\n"
   ]
  },
  {
   "cell_type": "code",
   "execution_count": 31,
   "metadata": {},
   "outputs": [
    {
     "name": "stdout",
     "output_type": "stream",
     "text": [
      "['Positive' 'Neutral' 'Negative']\n"
     ]
    }
   ],
   "source": [
    "print(df.sentiment.unique())"
   ]
  },
  {
   "cell_type": "code",
   "execution_count": 32,
   "metadata": {},
   "outputs": [
    {
     "name": "stdout",
     "output_type": "stream",
     "text": [
      "Neutral     651\n",
      "Negative    494\n",
      "Positive    366\n",
      "Name: sentiment, dtype: int64\n"
     ]
    }
   ],
   "source": [
    "print(df.sentiment.value_counts())"
   ]
  },
  {
   "cell_type": "code",
   "execution_count": 33,
   "metadata": {},
   "outputs": [],
   "source": [
    "newdf = df.groupby('sentiment').sample(n=72, random_state=1)"
   ]
  },
  {
   "cell_type": "code",
   "execution_count": 34,
   "metadata": {},
   "outputs": [
    {
     "data": {
      "text/plain": [
       "(216, 18)"
      ]
     },
     "execution_count": 34,
     "metadata": {},
     "output_type": "execute_result"
    }
   ],
   "source": [
    "newdf.shape"
   ]
  },
  {
   "cell_type": "code",
   "execution_count": 35,
   "metadata": {},
   "outputs": [
    {
     "data": {
      "text/plain": [
       "Negative    72\n",
       "Neutral     72\n",
       "Positive    72\n",
       "Name: sentiment, dtype: int64"
      ]
     },
     "execution_count": 35,
     "metadata": {},
     "output_type": "execute_result"
    }
   ],
   "source": [
    "newdf.sentiment.value_counts()"
   ]
  },
  {
   "cell_type": "code",
   "execution_count": 36,
   "metadata": {},
   "outputs": [
    {
     "data": {
      "text/html": [
       "<div>\n",
       "<style scoped>\n",
       "    .dataframe tbody tr th:only-of-type {\n",
       "        vertical-align: middle;\n",
       "    }\n",
       "\n",
       "    .dataframe tbody tr th {\n",
       "        vertical-align: top;\n",
       "    }\n",
       "\n",
       "    .dataframe thead th {\n",
       "        text-align: right;\n",
       "    }\n",
       "</style>\n",
       "<table border=\"1\" class=\"dataframe\">\n",
       "  <thead>\n",
       "    <tr style=\"text-align: right;\">\n",
       "      <th></th>\n",
       "      <th>text</th>\n",
       "      <th>scrape_time</th>\n",
       "      <th>tweet_id</th>\n",
       "      <th>created_at</th>\n",
       "      <th>reply_count</th>\n",
       "      <th>quote_count</th>\n",
       "      <th>like_count</th>\n",
       "      <th>retweet_count</th>\n",
       "      <th>geo_full_name</th>\n",
       "      <th>geo_id</th>\n",
       "      <th>geo_bbox</th>\n",
       "      <th>tweet_coordinate</th>\n",
       "      <th>username</th>\n",
       "      <th>num_followers</th>\n",
       "      <th>search_keywords</th>\n",
       "      <th>search_neighbourhood</th>\n",
       "      <th>sentiment</th>\n",
       "      <th>score</th>\n",
       "      <th>score_matches</th>\n",
       "      <th>relevant</th>\n",
       "    </tr>\n",
       "  </thead>\n",
       "  <tbody>\n",
       "    <tr>\n",
       "      <th>1150</th>\n",
       "      <td>First time seeing snow in about 15+ years! 20 ...</td>\n",
       "      <td>2022-06-20 13:34:31.708467</td>\n",
       "      <td>1538541575546060800</td>\n",
       "      <td>2022-06-19 15:17:50+00:00</td>\n",
       "      <td>0</td>\n",
       "      <td>0</td>\n",
       "      <td>0</td>\n",
       "      <td>0</td>\n",
       "      <td>NaN</td>\n",
       "      <td>NaN</td>\n",
       "      <td>NaN</td>\n",
       "      <td>NaN</td>\n",
       "      <td>Shambazuva</td>\n",
       "      <td>12736</td>\n",
       "      <td>Victoria (boys \"and\" girls club south vanouver...</td>\n",
       "      <td>Victoria</td>\n",
       "      <td>Neutral</td>\n",
       "      <td>0.584249</td>\n",
       "      <td></td>\n",
       "      <td></td>\n",
       "    </tr>\n",
       "    <tr>\n",
       "      <th>1277</th>\n",
       "      <td>@fordnation @HStefansonMB So, taxpayers are fl...</td>\n",
       "      <td>2022-06-20 13:34:33.255603</td>\n",
       "      <td>1537113790973718532</td>\n",
       "      <td>2022-06-15 16:44:20+00:00</td>\n",
       "      <td>0</td>\n",
       "      <td>0</td>\n",
       "      <td>4</td>\n",
       "      <td>1</td>\n",
       "      <td>NaN</td>\n",
       "      <td>NaN</td>\n",
       "      <td>NaN</td>\n",
       "      <td>NaN</td>\n",
       "      <td>TraceyTrousdal5</td>\n",
       "      <td>1</td>\n",
       "      <td>Victoria (burnside gorge neighbourhood associa...</td>\n",
       "      <td>Victoria</td>\n",
       "      <td>Negative</td>\n",
       "      <td>0.799547</td>\n",
       "      <td></td>\n",
       "      <td></td>\n",
       "    </tr>\n",
       "    <tr>\n",
       "      <th>123</th>\n",
       "      <td>If anybody on the planet deserves to get paid ...</td>\n",
       "      <td>2022-06-20 13:32:26.967120</td>\n",
       "      <td>1538218150688194560</td>\n",
       "      <td>2022-06-18 17:52:40+00:00</td>\n",
       "      <td>0</td>\n",
       "      <td>0</td>\n",
       "      <td>4</td>\n",
       "      <td>0</td>\n",
       "      <td>NaN</td>\n",
       "      <td>NaN</td>\n",
       "      <td>NaN</td>\n",
       "      <td>NaN</td>\n",
       "      <td>SpencerB_abz</td>\n",
       "      <td>178</td>\n",
       "      <td>(sooke OR gonzales OR foul bay OR the gorge OR...</td>\n",
       "      <td>sooke OR gonzales OR foul bay OR the gorge OR ...</td>\n",
       "      <td>Negative</td>\n",
       "      <td>0.807167</td>\n",
       "      <td></td>\n",
       "      <td></td>\n",
       "    </tr>\n",
       "    <tr>\n",
       "      <th>289</th>\n",
       "      <td>@tomhunt1988 So this ‘elite’ is not allowed to...</td>\n",
       "      <td>2022-06-20 13:32:40.261787</td>\n",
       "      <td>1537066543284092934</td>\n",
       "      <td>2022-06-15 13:36:35+00:00</td>\n",
       "      <td>0</td>\n",
       "      <td>0</td>\n",
       "      <td>0</td>\n",
       "      <td>0</td>\n",
       "      <td>NaN</td>\n",
       "      <td>NaN</td>\n",
       "      <td>NaN</td>\n",
       "      <td>NaN</td>\n",
       "      <td>ReverendMakeluv</td>\n",
       "      <td>212</td>\n",
       "      <td>(view royal OR harris green OR hillside-quadra...</td>\n",
       "      <td>view royal OR harris green OR hillside-quadra ...</td>\n",
       "      <td>Neutral</td>\n",
       "      <td>0.560878</td>\n",
       "      <td></td>\n",
       "      <td></td>\n",
       "    </tr>\n",
       "    <tr>\n",
       "      <th>597</th>\n",
       "      <td>Can't wait for tennis camp tomorrow! Reminder:...</td>\n",
       "      <td>2022-06-20 13:33:41.877690</td>\n",
       "      <td>1538506156917899264</td>\n",
       "      <td>2022-06-19 12:57:06+00:00</td>\n",
       "      <td>0</td>\n",
       "      <td>0</td>\n",
       "      <td>8</td>\n",
       "      <td>1</td>\n",
       "      <td>NaN</td>\n",
       "      <td>NaN</td>\n",
       "      <td>NaN</td>\n",
       "      <td>NaN</td>\n",
       "      <td>BrotherTennis</td>\n",
       "      <td>217</td>\n",
       "      <td>(saanich OR uplands OR quadra village OR centr...</td>\n",
       "      <td>saanich OR uplands OR quadra village OR centra...</td>\n",
       "      <td>Positive</td>\n",
       "      <td>0.933474</td>\n",
       "      <td></td>\n",
       "      <td></td>\n",
       "    </tr>\n",
       "  </tbody>\n",
       "</table>\n",
       "</div>"
      ],
      "text/plain": [
       "                                                   text  \\\n",
       "1150  First time seeing snow in about 15+ years! 20 ...   \n",
       "1277  @fordnation @HStefansonMB So, taxpayers are fl...   \n",
       "123   If anybody on the planet deserves to get paid ...   \n",
       "289   @tomhunt1988 So this ‘elite’ is not allowed to...   \n",
       "597   Can't wait for tennis camp tomorrow! Reminder:...   \n",
       "\n",
       "                     scrape_time             tweet_id  \\\n",
       "1150  2022-06-20 13:34:31.708467  1538541575546060800   \n",
       "1277  2022-06-20 13:34:33.255603  1537113790973718532   \n",
       "123   2022-06-20 13:32:26.967120  1538218150688194560   \n",
       "289   2022-06-20 13:32:40.261787  1537066543284092934   \n",
       "597   2022-06-20 13:33:41.877690  1538506156917899264   \n",
       "\n",
       "                     created_at  reply_count  quote_count  like_count  \\\n",
       "1150  2022-06-19 15:17:50+00:00            0            0           0   \n",
       "1277  2022-06-15 16:44:20+00:00            0            0           4   \n",
       "123   2022-06-18 17:52:40+00:00            0            0           4   \n",
       "289   2022-06-15 13:36:35+00:00            0            0           0   \n",
       "597   2022-06-19 12:57:06+00:00            0            0           8   \n",
       "\n",
       "      retweet_count geo_full_name geo_id geo_bbox tweet_coordinate  \\\n",
       "1150              0           NaN    NaN      NaN              NaN   \n",
       "1277              1           NaN    NaN      NaN              NaN   \n",
       "123               0           NaN    NaN      NaN              NaN   \n",
       "289               0           NaN    NaN      NaN              NaN   \n",
       "597               1           NaN    NaN      NaN              NaN   \n",
       "\n",
       "             username  num_followers  \\\n",
       "1150       Shambazuva          12736   \n",
       "1277  TraceyTrousdal5              1   \n",
       "123      SpencerB_abz            178   \n",
       "289   ReverendMakeluv            212   \n",
       "597     BrotherTennis            217   \n",
       "\n",
       "                                        search_keywords  \\\n",
       "1150  Victoria (boys \"and\" girls club south vanouver...   \n",
       "1277  Victoria (burnside gorge neighbourhood associa...   \n",
       "123   (sooke OR gonzales OR foul bay OR the gorge OR...   \n",
       "289   (view royal OR harris green OR hillside-quadra...   \n",
       "597   (saanich OR uplands OR quadra village OR centr...   \n",
       "\n",
       "                                   search_neighbourhood sentiment     score  \\\n",
       "1150                                           Victoria   Neutral  0.584249   \n",
       "1277                                           Victoria  Negative  0.799547   \n",
       "123   sooke OR gonzales OR foul bay OR the gorge OR ...  Negative  0.807167   \n",
       "289   view royal OR harris green OR hillside-quadra ...   Neutral  0.560878   \n",
       "597   saanich OR uplands OR quadra village OR centra...  Positive  0.933474   \n",
       "\n",
       "     score_matches relevant  \n",
       "1150                         \n",
       "1277                         \n",
       "123                          \n",
       "289                          \n",
       "597                          "
      ]
     },
     "execution_count": 36,
     "metadata": {},
     "output_type": "execute_result"
    }
   ],
   "source": [
    "newdf['score_matches'] = \"\"\n",
    "newdf['relevant'] = \"\"\n",
    "newdf = newdf.sample(frac=1) # shuffle\n",
    "newdf.head(5)"
   ]
  },
  {
   "cell_type": "code",
   "execution_count": 37,
   "metadata": {},
   "outputs": [],
   "source": [
    "newdf.to_csv('verification.csv', encoding='utf-8')"
   ]
  },
  {
   "cell_type": "code",
   "execution_count": 47,
   "metadata": {},
   "outputs": [
    {
     "name": "stdout",
     "output_type": "stream",
     "text": [
      "verification-0.csv\n",
      "verification-1.csv\n",
      "verification-2.csv\n",
      "verification-3.csv\n",
      "verification-4.csv\n",
      "verification-5.csv\n",
      "verification-6.csv\n",
      "verification-7.csv\n",
      "verification-8.csv\n"
     ]
    }
   ],
   "source": [
    "n = 24 # 216 / 9\n",
    "\n",
    "for i in range(9):\n",
    "    tempdf = newdf.iloc[n*i : n*(i+1), :]\n",
    "    #print(tempdf.shape)\n",
    "    fname = f\"verification-{i}.csv\"\n",
    "    print(fname)\n",
    "    tempdf.to_csv(fname, encoding='utf-8')"
   ]
  },
  {
   "cell_type": "code",
   "execution_count": null,
   "metadata": {},
   "outputs": [],
   "source": []
  }
 ],
 "metadata": {
  "interpreter": {
   "hash": "f73d1433f8600d954573cbf7ddad1506b35140432c4a4e76186b8ad4d44e5720"
  },
  "kernelspec": {
   "display_name": "Python 3.9.12 64-bit (windows store)",
   "language": "python",
   "name": "python3"
  },
  "language_info": {
   "codemirror_mode": {
    "name": "ipython",
    "version": 3
   },
   "file_extension": ".py",
   "mimetype": "text/x-python",
   "name": "python",
   "nbconvert_exporter": "python",
   "pygments_lexer": "ipython3",
   "version": "3.9.13"
  },
  "orig_nbformat": 4
 },
 "nbformat": 4,
 "nbformat_minor": 2
}
