{
 "nbformat": 4,
 "nbformat_minor": 0,
 "metadata": {
  "colab": {
   "provenance": []
  },
  "kernelspec": {
   "name": "python3",
   "display_name": "Python 3"
  },
  "language_info": {
   "name": "python"
  },
  "gpuClass": "standard"
 },
 "cells": [
  {
   "cell_type": "code",
   "source": [
    "from sklearn.feature_extraction.text import *\n",
    "from sklearn.naive_bayes import *\n",
    "from sklearn.linear_model import *\n",
    "from sklearn.ensemble import *\n",
    "from sklearn.metrics import *\n",
    "import pandas as pd\n",
    "import numpy as np"
   ],
   "metadata": {
    "id": "Mcl2cTRLA7GB",
    "pycharm": {
     "name": "#%%\n"
    }
   },
   "execution_count": 2,
   "outputs": []
  },
  {
   "cell_type": "code",
   "source": [
    "df = pd.read_csv('GVCEH Milestone 2 Labelling 1 - RawData.csv', usecols=['text', 'Relevant to Victoria', 'Relevant to Homelessness'])\n",
    "df = df.rename(columns={\"Relevant to Victoria\": \"vic\", \"Relevant to Homelessness\": \"hl\"})\n",
    "df.head()"
   ],
   "metadata": {
    "colab": {
     "base_uri": "https://localhost:8080/",
     "height": 206
    },
    "id": "5PeCNZyWIR9R",
    "outputId": "15baa2da-a835-41ec-c864-9ce3f28ccc86",
    "pycharm": {
     "name": "#%%\n"
    }
   },
   "execution_count": 3,
   "outputs": [
    {
     "output_type": "execute_result",
     "data": {
      "text/plain": [
       "   vic  hl                                               text\n",
       "0  Yes  No  @AnnaGreenwoodL1 @saanich Dawson Heights Housi...\n",
       "1   No  No  It's Election Day and the polls are now open u...\n",
       "2   No  No  Sidney Bulwer Michaelia Roger #彩票 Bblythe Camp...\n",
       "3   No  No  Me telling my parents I’m gonna spit on this o...\n",
       "4   No  No  WRD Director Joy Langford shared water conserv..."
      ],
      "text/html": [
       "\n",
       "  <div id=\"df-8387607b-7058-46bb-81c2-c526bfea2d3a\">\n",
       "    <div class=\"colab-df-container\">\n",
       "      <div>\n",
       "<style scoped>\n",
       "    .dataframe tbody tr th:only-of-type {\n",
       "        vertical-align: middle;\n",
       "    }\n",
       "\n",
       "    .dataframe tbody tr th {\n",
       "        vertical-align: top;\n",
       "    }\n",
       "\n",
       "    .dataframe thead th {\n",
       "        text-align: right;\n",
       "    }\n",
       "</style>\n",
       "<table border=\"1\" class=\"dataframe\">\n",
       "  <thead>\n",
       "    <tr style=\"text-align: right;\">\n",
       "      <th></th>\n",
       "      <th>vic</th>\n",
       "      <th>hl</th>\n",
       "      <th>text</th>\n",
       "    </tr>\n",
       "  </thead>\n",
       "  <tbody>\n",
       "    <tr>\n",
       "      <th>0</th>\n",
       "      <td>Yes</td>\n",
       "      <td>No</td>\n",
       "      <td>@AnnaGreenwoodL1 @saanich Dawson Heights Housi...</td>\n",
       "    </tr>\n",
       "    <tr>\n",
       "      <th>1</th>\n",
       "      <td>No</td>\n",
       "      <td>No</td>\n",
       "      <td>It's Election Day and the polls are now open u...</td>\n",
       "    </tr>\n",
       "    <tr>\n",
       "      <th>2</th>\n",
       "      <td>No</td>\n",
       "      <td>No</td>\n",
       "      <td>Sidney Bulwer Michaelia Roger #彩票 Bblythe Camp...</td>\n",
       "    </tr>\n",
       "    <tr>\n",
       "      <th>3</th>\n",
       "      <td>No</td>\n",
       "      <td>No</td>\n",
       "      <td>Me telling my parents I’m gonna spit on this o...</td>\n",
       "    </tr>\n",
       "    <tr>\n",
       "      <th>4</th>\n",
       "      <td>No</td>\n",
       "      <td>No</td>\n",
       "      <td>WRD Director Joy Langford shared water conserv...</td>\n",
       "    </tr>\n",
       "  </tbody>\n",
       "</table>\n",
       "</div>\n",
       "      <button class=\"colab-df-convert\" onclick=\"convertToInteractive('df-8387607b-7058-46bb-81c2-c526bfea2d3a')\"\n",
       "              title=\"Convert this dataframe to an interactive table.\"\n",
       "              style=\"display:none;\">\n",
       "        \n",
       "  <svg xmlns=\"http://www.w3.org/2000/svg\" height=\"24px\"viewBox=\"0 0 24 24\"\n",
       "       width=\"24px\">\n",
       "    <path d=\"M0 0h24v24H0V0z\" fill=\"none\"/>\n",
       "    <path d=\"M18.56 5.44l.94 2.06.94-2.06 2.06-.94-2.06-.94-.94-2.06-.94 2.06-2.06.94zm-11 1L8.5 8.5l.94-2.06 2.06-.94-2.06-.94L8.5 2.5l-.94 2.06-2.06.94zm10 10l.94 2.06.94-2.06 2.06-.94-2.06-.94-.94-2.06-.94 2.06-2.06.94z\"/><path d=\"M17.41 7.96l-1.37-1.37c-.4-.4-.92-.59-1.43-.59-.52 0-1.04.2-1.43.59L10.3 9.45l-7.72 7.72c-.78.78-.78 2.05 0 2.83L4 21.41c.39.39.9.59 1.41.59.51 0 1.02-.2 1.41-.59l7.78-7.78 2.81-2.81c.8-.78.8-2.07 0-2.86zM5.41 20L4 18.59l7.72-7.72 1.47 1.35L5.41 20z\"/>\n",
       "  </svg>\n",
       "      </button>\n",
       "      \n",
       "  <style>\n",
       "    .colab-df-container {\n",
       "      display:flex;\n",
       "      flex-wrap:wrap;\n",
       "      gap: 12px;\n",
       "    }\n",
       "\n",
       "    .colab-df-convert {\n",
       "      background-color: #E8F0FE;\n",
       "      border: none;\n",
       "      border-radius: 50%;\n",
       "      cursor: pointer;\n",
       "      display: none;\n",
       "      fill: #1967D2;\n",
       "      height: 32px;\n",
       "      padding: 0 0 0 0;\n",
       "      width: 32px;\n",
       "    }\n",
       "\n",
       "    .colab-df-convert:hover {\n",
       "      background-color: #E2EBFA;\n",
       "      box-shadow: 0px 1px 2px rgba(60, 64, 67, 0.3), 0px 1px 3px 1px rgba(60, 64, 67, 0.15);\n",
       "      fill: #174EA6;\n",
       "    }\n",
       "\n",
       "    [theme=dark] .colab-df-convert {\n",
       "      background-color: #3B4455;\n",
       "      fill: #D2E3FC;\n",
       "    }\n",
       "\n",
       "    [theme=dark] .colab-df-convert:hover {\n",
       "      background-color: #434B5C;\n",
       "      box-shadow: 0px 1px 3px 1px rgba(0, 0, 0, 0.15);\n",
       "      filter: drop-shadow(0px 1px 2px rgba(0, 0, 0, 0.3));\n",
       "      fill: #FFFFFF;\n",
       "    }\n",
       "  </style>\n",
       "\n",
       "      <script>\n",
       "        const buttonEl =\n",
       "          document.querySelector('#df-8387607b-7058-46bb-81c2-c526bfea2d3a button.colab-df-convert');\n",
       "        buttonEl.style.display =\n",
       "          google.colab.kernel.accessAllowed ? 'block' : 'none';\n",
       "\n",
       "        async function convertToInteractive(key) {\n",
       "          const element = document.querySelector('#df-8387607b-7058-46bb-81c2-c526bfea2d3a');\n",
       "          const dataTable =\n",
       "            await google.colab.kernel.invokeFunction('convertToInteractive',\n",
       "                                                     [key], {});\n",
       "          if (!dataTable) return;\n",
       "\n",
       "          const docLinkHtml = 'Like what you see? Visit the ' +\n",
       "            '<a target=\"_blank\" href=https://colab.research.google.com/notebooks/data_table.ipynb>data table notebook</a>'\n",
       "            + ' to learn more about interactive tables.';\n",
       "          element.innerHTML = '';\n",
       "          dataTable['output_type'] = 'display_data';\n",
       "          await google.colab.output.renderOutput(dataTable, element);\n",
       "          const docLink = document.createElement('div');\n",
       "          docLink.innerHTML = docLinkHtml;\n",
       "          element.appendChild(docLink);\n",
       "        }\n",
       "      </script>\n",
       "    </div>\n",
       "  </div>\n",
       "  "
      ]
     },
     "metadata": {},
     "execution_count": 3
    }
   ]
  },
  {
   "cell_type": "code",
   "source": [
    "print(df.shape)\n",
    "df.dropna(inplace=True)\n",
    "df = df[np.logical_and(df.vic.isin(['Yes', 'No']), df.hl.isin(['Yes', 'No']))]\n",
    "df.shape"
   ],
   "metadata": {
    "colab": {
     "base_uri": "https://localhost:8080/"
    },
    "id": "3xLz_NZTIkzx",
    "outputId": "8a4dfb47-6808-46d9-a791-6dbfc980a1c9",
    "pycharm": {
     "name": "#%%\n"
    }
   },
   "execution_count": 4,
   "outputs": [
    {
     "output_type": "stream",
     "name": "stdout",
     "text": [
      "(2116, 3)\n"
     ]
    },
    {
     "output_type": "execute_result",
     "data": {
      "text/plain": [
       "(788, 3)"
      ]
     },
     "metadata": {},
     "execution_count": 4
    }
   ]
  },
  {
   "cell_type": "code",
   "source": [
    "df.vic.value_counts(), df.hl.value_counts()"
   ],
   "metadata": {
    "colab": {
     "base_uri": "https://localhost:8080/"
    },
    "id": "lD9CKA0-Iy9x",
    "outputId": "64596df1-7bc2-47ae-8e29-4485727d4e30",
    "pycharm": {
     "name": "#%%\n"
    }
   },
   "execution_count": 5,
   "outputs": [
    {
     "output_type": "execute_result",
     "data": {
      "text/plain": [
       "(No     584\n",
       " Yes    204\n",
       " Name: vic, dtype: int64, No     684\n",
       " Yes    104\n",
       " Name: hl, dtype: int64)"
      ]
     },
     "metadata": {},
     "execution_count": 5
    }
   ]
  },
  {
   "cell_type": "code",
   "source": [
    "label_map = dict(Yes=1, No=0)\n",
    "label_map"
   ],
   "metadata": {
    "colab": {
     "base_uri": "https://localhost:8080/"
    },
    "id": "1t8REj6zMCCw",
    "outputId": "d98980ca-46ef-497a-e07f-5894b67ec3e0",
    "pycharm": {
     "name": "#%%\n"
    }
   },
   "execution_count": 6,
   "outputs": [
    {
     "output_type": "execute_result",
     "data": {
      "text/plain": [
       "{'Yes': 1, 'No': 0}"
      ]
     },
     "metadata": {},
     "execution_count": 6
    }
   ]
  },
  {
   "cell_type": "code",
   "source": [
    "df.vic = df.vic.map(label_map)\n",
    "df.hl = df.hl.map(label_map)"
   ],
   "metadata": {
    "id": "3iZcVOnUMJwB",
    "pycharm": {
     "name": "#%%\n"
    }
   },
   "execution_count": 7,
   "outputs": []
  },
  {
   "cell_type": "code",
   "source": [
    "df = df.sample(frac=1., random_state=42)\n",
    "train = df.iloc[:500]\n",
    "test = df.iloc[500:]"
   ],
   "metadata": {
    "id": "ZNFyJb1H1X-U",
    "pycharm": {
     "name": "#%%\n"
    }
   },
   "execution_count": 8,
   "outputs": []
  },
  {
   "cell_type": "code",
   "source": [
    "train_x = train['text']\n",
    "train_y = train[['vic', 'hl']]\n",
    "test_x = test['text']\n",
    "test_y = test[['vic', 'hl']]"
   ],
   "metadata": {
    "id": "c_RuyhkI1xO0",
    "pycharm": {
     "name": "#%%\n"
    }
   },
   "execution_count": 9,
   "outputs": []
  },
  {
   "cell_type": "code",
   "source": [
    "vectorizer = TfidfVectorizer(ngram_range=(1,1))\n",
    "train_feat = vectorizer.fit_transform(train_x)\n",
    "test_feat = vectorizer.transform(test_x)"
   ],
   "metadata": {
    "id": "9usvzo172JwM",
    "pycharm": {
     "name": "#%%\n"
    }
   },
   "execution_count": 10,
   "outputs": []
  },
  {
   "cell_type": "code",
   "source": [
    "clf = RandomForestClassifier().fit(train_feat, train_y)\n",
    "preds = clf.predict(test_feat)\n",
    "print(multilabel_confusion_matrix(test_y, preds))\n",
    "for i in [0, 1]:\n",
    "  print(test_y.columns[i])\n",
    "  print(classification_report(test_y.values[:,i], preds[:,i]))"
   ],
   "metadata": {
    "colab": {
     "base_uri": "https://localhost:8080/"
    },
    "id": "MgWjL6I02hcM",
    "outputId": "16c9fdab-f599-49c9-b4df-af8b94b2fd42",
    "pycharm": {
     "name": "#%%\n"
    }
   },
   "execution_count": 11,
   "outputs": [
    {
     "output_type": "stream",
     "name": "stdout",
     "text": [
      "[[[206   9]\n",
      "  [ 35  38]]\n",
      "\n",
      " [[251   2]\n",
      "  [ 33   2]]]\n",
      "vic\n",
      "              precision    recall  f1-score   support\n",
      "\n",
      "           0       0.85      0.96      0.90       215\n",
      "           1       0.81      0.52      0.63        73\n",
      "\n",
      "    accuracy                           0.85       288\n",
      "   macro avg       0.83      0.74      0.77       288\n",
      "weighted avg       0.84      0.85      0.84       288\n",
      "\n",
      "hl\n",
      "              precision    recall  f1-score   support\n",
      "\n",
      "           0       0.88      0.99      0.93       253\n",
      "           1       0.50      0.06      0.10        35\n",
      "\n",
      "    accuracy                           0.88       288\n",
      "   macro avg       0.69      0.52      0.52       288\n",
      "weighted avg       0.84      0.88      0.83       288\n",
      "\n"
     ]
    }
   ]
  },
  {
   "cell_type": "code",
   "source": [
    "clf = RandomForestClassifier(random_state=42, n_estimators=100, class_weight='balanced', max_features=1.0).fit(train_feat, train_y)\n",
    "threshs = [0.45, 0.33]\n",
    "preds = np.array(clf.predict_proba(test_feat))[:,:,1].T >= threshs\n",
    "print(multilabel_confusion_matrix(test_y, preds))\n",
    "for i in [0, 1]:\n",
    "  print(test_y.columns[i])\n",
    "  print(classification_report(test_y.values[:,i], preds[:,i]))"
   ],
   "metadata": {
    "colab": {
     "base_uri": "https://localhost:8080/"
    },
    "id": "gkIay3RH5uxA",
    "outputId": "3d9d7f71-bffc-4bb3-c3cf-88e6e678913f",
    "pycharm": {
     "name": "#%%\n"
    }
   },
   "execution_count": 12,
   "outputs": [
    {
     "output_type": "stream",
     "name": "stdout",
     "text": [
      "[[[193  22]\n",
      "  [ 18  55]]\n",
      "\n",
      " [[221  32]\n",
      "  [ 13  22]]]\n",
      "vic\n",
      "              precision    recall  f1-score   support\n",
      "\n",
      "           0       0.91      0.90      0.91       215\n",
      "           1       0.71      0.75      0.73        73\n",
      "\n",
      "    accuracy                           0.86       288\n",
      "   macro avg       0.81      0.83      0.82       288\n",
      "weighted avg       0.86      0.86      0.86       288\n",
      "\n",
      "hl\n",
      "              precision    recall  f1-score   support\n",
      "\n",
      "           0       0.94      0.87      0.91       253\n",
      "           1       0.41      0.63      0.49        35\n",
      "\n",
      "    accuracy                           0.84       288\n",
      "   macro avg       0.68      0.75      0.70       288\n",
      "weighted avg       0.88      0.84      0.86       288\n",
      "\n"
     ]
    }
   ]
  },
  {
   "cell_type": "code",
   "source": [
    "print(df.vic.value_counts()); print(df.hl.value_counts()); print(np.logical_and(df.vic, df.hl).sum())"
   ],
   "metadata": {
    "colab": {
     "base_uri": "https://localhost:8080/"
    },
    "id": "Oz-OKzhcisNb",
    "outputId": "391e1f63-f296-4e4d-b885-beee1968d7ae",
    "pycharm": {
     "name": "#%%\n"
    }
   },
   "execution_count": 32,
   "outputs": [
    {
     "output_type": "stream",
     "name": "stdout",
     "text": [
      "0    584\n",
      "1    204\n",
      "Name: vic, dtype: int64\n",
      "0    684\n",
      "1    104\n",
      "Name: hl, dtype: int64\n",
      "93\n"
     ]
    }
   ]
  },
  {
   "cell_type": "code",
   "source": [
    "(preds.sum(1) == 2).sum()"
   ],
   "metadata": {
    "colab": {
     "base_uri": "https://localhost:8080/"
    },
    "id": "xBhpC9zFCGFH",
    "outputId": "8714ef22-560b-47a8-e5b0-ae6f218065f6",
    "pycharm": {
     "name": "#%%\n"
    }
   },
   "execution_count": 22,
   "outputs": [
    {
     "output_type": "execute_result",
     "data": {
      "text/plain": [
       "50"
      ]
     },
     "metadata": {},
     "execution_count": 22
    }
   ]
  },
  {
   "cell_type": "code",
   "source": [
    "test = test.reset_index().drop('index', axis=1)\n",
    "test.loc[test.sum(1) == 2].shape"
   ],
   "metadata": {
    "colab": {
     "base_uri": "https://localhost:8080/"
    },
    "id": "MZSon34ABxpw",
    "outputId": "bb4082bf-7672-4b39-dbfb-5734214bc7ec",
    "pycharm": {
     "name": "#%%\n"
    }
   },
   "execution_count": 24,
   "outputs": [
    {
     "output_type": "stream",
     "name": "stderr",
     "text": [
      "<ipython-input-24-7d9f3f072626>:2: FutureWarning: Dropping of nuisance columns in DataFrame reductions (with 'numeric_only=None') is deprecated; in a future version this will raise TypeError.  Select only valid columns before calling the reduction.\n",
      "  test.loc[test.sum(1) == 2].shape\n"
     ]
    },
    {
     "output_type": "execute_result",
     "data": {
      "text/plain": [
       "(31, 3)"
      ]
     },
     "metadata": {},
     "execution_count": 24
    }
   ]
  },
  {
   "cell_type": "code",
   "source": [
    "pred_idx = test.loc[(preds.sum(1) == 2)].index \n",
    "real_idx = test.loc[test.sum(1) == 2].index\n",
    "sum(p in real_idx for p in pred_idx)"
   ],
   "metadata": {
    "colab": {
     "base_uri": "https://localhost:8080/"
    },
    "id": "Xkmw26mCjJTa",
    "outputId": "580ee5c9-240a-4fba-d935-6f71763342f9",
    "pycharm": {
     "name": "#%%\n"
    }
   },
   "execution_count": 36,
   "outputs": [
    {
     "output_type": "stream",
     "name": "stderr",
     "text": [
      "<ipython-input-36-38a18288c511>:2: FutureWarning: Dropping of nuisance columns in DataFrame reductions (with 'numeric_only=None') is deprecated; in a future version this will raise TypeError.  Select only valid columns before calling the reduction.\n",
      "  real_idx = test.loc[test.sum(1) == 2].index\n"
     ]
    },
    {
     "output_type": "execute_result",
     "data": {
      "text/plain": [
       "19"
      ]
     },
     "metadata": {},
     "execution_count": 36
    }
   ]
  },
  {
   "cell_type": "markdown",
   "source": [
    "After predicting with a low (recall-oriented) threshold, we have 50 tweets which are supposedly both HL and VIC. 19 of which are TP (out of the original 31 in the test set) and the other 31 are FP.\n",
    "\n",
    "Let's visually inspect:"
   ],
   "metadata": {
    "id": "ukUNXjWCjmqJ",
    "pycharm": {
     "name": "#%% md\n"
    }
   }
  },
  {
   "cell_type": "code",
   "source": [
    "test.loc[(preds.sum(1) == 2)]"
   ],
   "metadata": {
    "colab": {
     "base_uri": "https://localhost:8080/",
     "height": 415
    },
    "id": "ERpHxw9ACYxf",
    "outputId": "bd06a043-57e4-4a2a-b7ca-15f7c294b759",
    "pycharm": {
     "name": "#%%\n"
    }
   },
   "execution_count": 25,
   "outputs": [
    {
     "output_type": "execute_result",
     "data": {
      "text/plain": [
       "     vic  hl                                               text\n",
       "7      1   1  \"Greater Victorians gave housing in the region...\n",
       "23     1   0  City of Victoria MNP Governance Review Recomme...\n",
       "26     1   0  Greater Victoria Placemaking Network: great pe...\n",
       "28     0   1  In Victoria, house prices in Gippsland’s Venus...\n",
       "30     1   0  ‼️Audit the BC poverty industry NOW‼️When they...\n",
       "33     1   1  Update: thank you everyone for reaching out wi...\n",
       "48     1   0  @CTVWarrenDean is hosting:  Mornings With @alf...\n",
       "50     1   0  ‼️ Audit the BC poverty industry NOW ‼️Politic...\n",
       "51     1   1  the state of housing in Victoria is such that,...\n",
       "55     0   0  Great piece on housing affordability in the Ag...\n",
       "58     1   1  \"the region needs rentals, townhouses, duplexe...\n",
       "59     0   0  Victoria  Cruises  brings  you  the  world's  ...\n",
       "71     1   1  A new @CHFCanada study shows housing co-ops be...\n",
       "72     1   1  Please share this message @BC_Housing @HomeFor...\n",
       "79     1   0  City of Victoria MNP Governance Review Report ...\n",
       "81     1   0  \"We've created a lot of affordable housing. Th...\n",
       "88     0   0  A6 FAIRFIELD ROUNDABOUT WORK DELAYED\\nThe comp...\n",
       "91     0   0  \"In the design theme, city officials look to h...\n",
       "92     1   1  This year, overall quality of life trended upw...\n",
       "97     1   1  Blue Bridge Theatre notice re \"Urban Camping\"....\n",
       "99     1   1  Some 'light' research underway, prompted by a ...\n",
       "101    0   0  Stolen bike alert for #yyj \\n\\nMy friend's e-b...\n",
       "102    0   1  Victoria is in a housing affordability crisis....\n",
       "108    0   1  Low income earners and Indigenous communities ...\n",
       "119    1   1  @CityOfVictoria @HomeForHope 😂 Many homeless a...\n",
       "126    1   0  This Sunday’s Peer Support Worker Training cla...\n",
       "127    1   0  Our volunteers for See Spring are helping supp...\n",
       "131    1   1  Please share this message @BC_Housing @HomeFor...\n",
       "132    1   1  Welcome to Victoria. The new Vancouver. Rampan...\n",
       "133    1   0  #yyj #yyjpoli Future preview?!? \"Businesses ar...\n",
       "135    1   0  RT @VicBuilders: \"We've created a lot of affor...\n",
       "136    1   1  Throughout November we are making detailed ind...\n",
       "146    1   0  We had staffing concerns a year ago. The City ...\n",
       "147    0   0  City Hall to Light Up in Blue in Support of Wo...\n",
       "148    1   0  Toxic drugs claim 171 more lives in BC in Sept...\n",
       "159    1   0  City of Victoria MNP Governance Review Recomme...\n",
       "163    1   1  “Until we address the underlying issues of why...\n",
       "181    0   0  Looking for a volunteer opportunity? Our Rente...\n",
       "183    0   0  A huge win for Victoria Gu @Victoria4RI tonigh...\n",
       "189    0   0  This is horrific. Saanich, Victoria and Oak Ba...\n",
       "190    1   1  ICYMI: “What has contributed to Victoria getti...\n",
       "217    1   1  Housing First works! And here in Victoria HF p...\n",
       "219    0   0  “In the case of Calgary, the building systems ...\n",
       "224    0   0  @WFLBC If it’s affordable it can work. The Vic...\n",
       "235    1   1  Today, @CHFCanada launched a new research repo...\n",
       "247    1   0  Have you placed a bid in the 2022 Chamber Auct...\n",
       "256    1   0  @khzny With current interest rates and the ina...\n",
       "269    1   1  #NEW: On Monday night, amid heavy snow and win...\n",
       "271    1   0  Tensions rise as Coastal GasLink blasts beside...\n",
       "282    1   1  Dawson Heights cottages residents have known t..."
      ],
      "text/html": [
       "\n",
       "  <div id=\"df-898b5f1f-be77-4707-b87e-2e1c7417378e\">\n",
       "    <div class=\"colab-df-container\">\n",
       "      <div>\n",
       "<style scoped>\n",
       "    .dataframe tbody tr th:only-of-type {\n",
       "        vertical-align: middle;\n",
       "    }\n",
       "\n",
       "    .dataframe tbody tr th {\n",
       "        vertical-align: top;\n",
       "    }\n",
       "\n",
       "    .dataframe thead th {\n",
       "        text-align: right;\n",
       "    }\n",
       "</style>\n",
       "<table border=\"1\" class=\"dataframe\">\n",
       "  <thead>\n",
       "    <tr style=\"text-align: right;\">\n",
       "      <th></th>\n",
       "      <th>vic</th>\n",
       "      <th>hl</th>\n",
       "      <th>text</th>\n",
       "    </tr>\n",
       "  </thead>\n",
       "  <tbody>\n",
       "    <tr>\n",
       "      <th>7</th>\n",
       "      <td>1</td>\n",
       "      <td>1</td>\n",
       "      <td>\"Greater Victorians gave housing in the region...</td>\n",
       "    </tr>\n",
       "    <tr>\n",
       "      <th>23</th>\n",
       "      <td>1</td>\n",
       "      <td>0</td>\n",
       "      <td>City of Victoria MNP Governance Review Recomme...</td>\n",
       "    </tr>\n",
       "    <tr>\n",
       "      <th>26</th>\n",
       "      <td>1</td>\n",
       "      <td>0</td>\n",
       "      <td>Greater Victoria Placemaking Network: great pe...</td>\n",
       "    </tr>\n",
       "    <tr>\n",
       "      <th>28</th>\n",
       "      <td>0</td>\n",
       "      <td>1</td>\n",
       "      <td>In Victoria, house prices in Gippsland’s Venus...</td>\n",
       "    </tr>\n",
       "    <tr>\n",
       "      <th>30</th>\n",
       "      <td>1</td>\n",
       "      <td>0</td>\n",
       "      <td>‼️Audit the BC poverty industry NOW‼️When they...</td>\n",
       "    </tr>\n",
       "    <tr>\n",
       "      <th>33</th>\n",
       "      <td>1</td>\n",
       "      <td>1</td>\n",
       "      <td>Update: thank you everyone for reaching out wi...</td>\n",
       "    </tr>\n",
       "    <tr>\n",
       "      <th>48</th>\n",
       "      <td>1</td>\n",
       "      <td>0</td>\n",
       "      <td>@CTVWarrenDean is hosting:  Mornings With @alf...</td>\n",
       "    </tr>\n",
       "    <tr>\n",
       "      <th>50</th>\n",
       "      <td>1</td>\n",
       "      <td>0</td>\n",
       "      <td>‼️ Audit the BC poverty industry NOW ‼️Politic...</td>\n",
       "    </tr>\n",
       "    <tr>\n",
       "      <th>51</th>\n",
       "      <td>1</td>\n",
       "      <td>1</td>\n",
       "      <td>the state of housing in Victoria is such that,...</td>\n",
       "    </tr>\n",
       "    <tr>\n",
       "      <th>55</th>\n",
       "      <td>0</td>\n",
       "      <td>0</td>\n",
       "      <td>Great piece on housing affordability in the Ag...</td>\n",
       "    </tr>\n",
       "    <tr>\n",
       "      <th>58</th>\n",
       "      <td>1</td>\n",
       "      <td>1</td>\n",
       "      <td>\"the region needs rentals, townhouses, duplexe...</td>\n",
       "    </tr>\n",
       "    <tr>\n",
       "      <th>59</th>\n",
       "      <td>0</td>\n",
       "      <td>0</td>\n",
       "      <td>Victoria  Cruises  brings  you  the  world's  ...</td>\n",
       "    </tr>\n",
       "    <tr>\n",
       "      <th>71</th>\n",
       "      <td>1</td>\n",
       "      <td>1</td>\n",
       "      <td>A new @CHFCanada study shows housing co-ops be...</td>\n",
       "    </tr>\n",
       "    <tr>\n",
       "      <th>72</th>\n",
       "      <td>1</td>\n",
       "      <td>1</td>\n",
       "      <td>Please share this message @BC_Housing @HomeFor...</td>\n",
       "    </tr>\n",
       "    <tr>\n",
       "      <th>79</th>\n",
       "      <td>1</td>\n",
       "      <td>0</td>\n",
       "      <td>City of Victoria MNP Governance Review Report ...</td>\n",
       "    </tr>\n",
       "    <tr>\n",
       "      <th>81</th>\n",
       "      <td>1</td>\n",
       "      <td>0</td>\n",
       "      <td>\"We've created a lot of affordable housing. Th...</td>\n",
       "    </tr>\n",
       "    <tr>\n",
       "      <th>88</th>\n",
       "      <td>0</td>\n",
       "      <td>0</td>\n",
       "      <td>A6 FAIRFIELD ROUNDABOUT WORK DELAYED\\nThe comp...</td>\n",
       "    </tr>\n",
       "    <tr>\n",
       "      <th>91</th>\n",
       "      <td>0</td>\n",
       "      <td>0</td>\n",
       "      <td>\"In the design theme, city officials look to h...</td>\n",
       "    </tr>\n",
       "    <tr>\n",
       "      <th>92</th>\n",
       "      <td>1</td>\n",
       "      <td>1</td>\n",
       "      <td>This year, overall quality of life trended upw...</td>\n",
       "    </tr>\n",
       "    <tr>\n",
       "      <th>97</th>\n",
       "      <td>1</td>\n",
       "      <td>1</td>\n",
       "      <td>Blue Bridge Theatre notice re \"Urban Camping\"....</td>\n",
       "    </tr>\n",
       "    <tr>\n",
       "      <th>99</th>\n",
       "      <td>1</td>\n",
       "      <td>1</td>\n",
       "      <td>Some 'light' research underway, prompted by a ...</td>\n",
       "    </tr>\n",
       "    <tr>\n",
       "      <th>101</th>\n",
       "      <td>0</td>\n",
       "      <td>0</td>\n",
       "      <td>Stolen bike alert for #yyj \\n\\nMy friend's e-b...</td>\n",
       "    </tr>\n",
       "    <tr>\n",
       "      <th>102</th>\n",
       "      <td>0</td>\n",
       "      <td>1</td>\n",
       "      <td>Victoria is in a housing affordability crisis....</td>\n",
       "    </tr>\n",
       "    <tr>\n",
       "      <th>108</th>\n",
       "      <td>0</td>\n",
       "      <td>1</td>\n",
       "      <td>Low income earners and Indigenous communities ...</td>\n",
       "    </tr>\n",
       "    <tr>\n",
       "      <th>119</th>\n",
       "      <td>1</td>\n",
       "      <td>1</td>\n",
       "      <td>@CityOfVictoria @HomeForHope 😂 Many homeless a...</td>\n",
       "    </tr>\n",
       "    <tr>\n",
       "      <th>126</th>\n",
       "      <td>1</td>\n",
       "      <td>0</td>\n",
       "      <td>This Sunday’s Peer Support Worker Training cla...</td>\n",
       "    </tr>\n",
       "    <tr>\n",
       "      <th>127</th>\n",
       "      <td>1</td>\n",
       "      <td>0</td>\n",
       "      <td>Our volunteers for See Spring are helping supp...</td>\n",
       "    </tr>\n",
       "    <tr>\n",
       "      <th>131</th>\n",
       "      <td>1</td>\n",
       "      <td>1</td>\n",
       "      <td>Please share this message @BC_Housing @HomeFor...</td>\n",
       "    </tr>\n",
       "    <tr>\n",
       "      <th>132</th>\n",
       "      <td>1</td>\n",
       "      <td>1</td>\n",
       "      <td>Welcome to Victoria. The new Vancouver. Rampan...</td>\n",
       "    </tr>\n",
       "    <tr>\n",
       "      <th>133</th>\n",
       "      <td>1</td>\n",
       "      <td>0</td>\n",
       "      <td>#yyj #yyjpoli Future preview?!? \"Businesses ar...</td>\n",
       "    </tr>\n",
       "    <tr>\n",
       "      <th>135</th>\n",
       "      <td>1</td>\n",
       "      <td>0</td>\n",
       "      <td>RT @VicBuilders: \"We've created a lot of affor...</td>\n",
       "    </tr>\n",
       "    <tr>\n",
       "      <th>136</th>\n",
       "      <td>1</td>\n",
       "      <td>1</td>\n",
       "      <td>Throughout November we are making detailed ind...</td>\n",
       "    </tr>\n",
       "    <tr>\n",
       "      <th>146</th>\n",
       "      <td>1</td>\n",
       "      <td>0</td>\n",
       "      <td>We had staffing concerns a year ago. The City ...</td>\n",
       "    </tr>\n",
       "    <tr>\n",
       "      <th>147</th>\n",
       "      <td>0</td>\n",
       "      <td>0</td>\n",
       "      <td>City Hall to Light Up in Blue in Support of Wo...</td>\n",
       "    </tr>\n",
       "    <tr>\n",
       "      <th>148</th>\n",
       "      <td>1</td>\n",
       "      <td>0</td>\n",
       "      <td>Toxic drugs claim 171 more lives in BC in Sept...</td>\n",
       "    </tr>\n",
       "    <tr>\n",
       "      <th>159</th>\n",
       "      <td>1</td>\n",
       "      <td>0</td>\n",
       "      <td>City of Victoria MNP Governance Review Recomme...</td>\n",
       "    </tr>\n",
       "    <tr>\n",
       "      <th>163</th>\n",
       "      <td>1</td>\n",
       "      <td>1</td>\n",
       "      <td>“Until we address the underlying issues of why...</td>\n",
       "    </tr>\n",
       "    <tr>\n",
       "      <th>181</th>\n",
       "      <td>0</td>\n",
       "      <td>0</td>\n",
       "      <td>Looking for a volunteer opportunity? Our Rente...</td>\n",
       "    </tr>\n",
       "    <tr>\n",
       "      <th>183</th>\n",
       "      <td>0</td>\n",
       "      <td>0</td>\n",
       "      <td>A huge win for Victoria Gu @Victoria4RI tonigh...</td>\n",
       "    </tr>\n",
       "    <tr>\n",
       "      <th>189</th>\n",
       "      <td>0</td>\n",
       "      <td>0</td>\n",
       "      <td>This is horrific. Saanich, Victoria and Oak Ba...</td>\n",
       "    </tr>\n",
       "    <tr>\n",
       "      <th>190</th>\n",
       "      <td>1</td>\n",
       "      <td>1</td>\n",
       "      <td>ICYMI: “What has contributed to Victoria getti...</td>\n",
       "    </tr>\n",
       "    <tr>\n",
       "      <th>217</th>\n",
       "      <td>1</td>\n",
       "      <td>1</td>\n",
       "      <td>Housing First works! And here in Victoria HF p...</td>\n",
       "    </tr>\n",
       "    <tr>\n",
       "      <th>219</th>\n",
       "      <td>0</td>\n",
       "      <td>0</td>\n",
       "      <td>“In the case of Calgary, the building systems ...</td>\n",
       "    </tr>\n",
       "    <tr>\n",
       "      <th>224</th>\n",
       "      <td>0</td>\n",
       "      <td>0</td>\n",
       "      <td>@WFLBC If it’s affordable it can work. The Vic...</td>\n",
       "    </tr>\n",
       "    <tr>\n",
       "      <th>235</th>\n",
       "      <td>1</td>\n",
       "      <td>1</td>\n",
       "      <td>Today, @CHFCanada launched a new research repo...</td>\n",
       "    </tr>\n",
       "    <tr>\n",
       "      <th>247</th>\n",
       "      <td>1</td>\n",
       "      <td>0</td>\n",
       "      <td>Have you placed a bid in the 2022 Chamber Auct...</td>\n",
       "    </tr>\n",
       "    <tr>\n",
       "      <th>256</th>\n",
       "      <td>1</td>\n",
       "      <td>0</td>\n",
       "      <td>@khzny With current interest rates and the ina...</td>\n",
       "    </tr>\n",
       "    <tr>\n",
       "      <th>269</th>\n",
       "      <td>1</td>\n",
       "      <td>1</td>\n",
       "      <td>#NEW: On Monday night, amid heavy snow and win...</td>\n",
       "    </tr>\n",
       "    <tr>\n",
       "      <th>271</th>\n",
       "      <td>1</td>\n",
       "      <td>0</td>\n",
       "      <td>Tensions rise as Coastal GasLink blasts beside...</td>\n",
       "    </tr>\n",
       "    <tr>\n",
       "      <th>282</th>\n",
       "      <td>1</td>\n",
       "      <td>1</td>\n",
       "      <td>Dawson Heights cottages residents have known t...</td>\n",
       "    </tr>\n",
       "  </tbody>\n",
       "</table>\n",
       "</div>\n",
       "      <button class=\"colab-df-convert\" onclick=\"convertToInteractive('df-898b5f1f-be77-4707-b87e-2e1c7417378e')\"\n",
       "              title=\"Convert this dataframe to an interactive table.\"\n",
       "              style=\"display:none;\">\n",
       "        \n",
       "  <svg xmlns=\"http://www.w3.org/2000/svg\" height=\"24px\"viewBox=\"0 0 24 24\"\n",
       "       width=\"24px\">\n",
       "    <path d=\"M0 0h24v24H0V0z\" fill=\"none\"/>\n",
       "    <path d=\"M18.56 5.44l.94 2.06.94-2.06 2.06-.94-2.06-.94-.94-2.06-.94 2.06-2.06.94zm-11 1L8.5 8.5l.94-2.06 2.06-.94-2.06-.94L8.5 2.5l-.94 2.06-2.06.94zm10 10l.94 2.06.94-2.06 2.06-.94-2.06-.94-.94-2.06-.94 2.06-2.06.94z\"/><path d=\"M17.41 7.96l-1.37-1.37c-.4-.4-.92-.59-1.43-.59-.52 0-1.04.2-1.43.59L10.3 9.45l-7.72 7.72c-.78.78-.78 2.05 0 2.83L4 21.41c.39.39.9.59 1.41.59.51 0 1.02-.2 1.41-.59l7.78-7.78 2.81-2.81c.8-.78.8-2.07 0-2.86zM5.41 20L4 18.59l7.72-7.72 1.47 1.35L5.41 20z\"/>\n",
       "  </svg>\n",
       "      </button>\n",
       "      \n",
       "  <style>\n",
       "    .colab-df-container {\n",
       "      display:flex;\n",
       "      flex-wrap:wrap;\n",
       "      gap: 12px;\n",
       "    }\n",
       "\n",
       "    .colab-df-convert {\n",
       "      background-color: #E8F0FE;\n",
       "      border: none;\n",
       "      border-radius: 50%;\n",
       "      cursor: pointer;\n",
       "      display: none;\n",
       "      fill: #1967D2;\n",
       "      height: 32px;\n",
       "      padding: 0 0 0 0;\n",
       "      width: 32px;\n",
       "    }\n",
       "\n",
       "    .colab-df-convert:hover {\n",
       "      background-color: #E2EBFA;\n",
       "      box-shadow: 0px 1px 2px rgba(60, 64, 67, 0.3), 0px 1px 3px 1px rgba(60, 64, 67, 0.15);\n",
       "      fill: #174EA6;\n",
       "    }\n",
       "\n",
       "    [theme=dark] .colab-df-convert {\n",
       "      background-color: #3B4455;\n",
       "      fill: #D2E3FC;\n",
       "    }\n",
       "\n",
       "    [theme=dark] .colab-df-convert:hover {\n",
       "      background-color: #434B5C;\n",
       "      box-shadow: 0px 1px 3px 1px rgba(0, 0, 0, 0.15);\n",
       "      filter: drop-shadow(0px 1px 2px rgba(0, 0, 0, 0.3));\n",
       "      fill: #FFFFFF;\n",
       "    }\n",
       "  </style>\n",
       "\n",
       "      <script>\n",
       "        const buttonEl =\n",
       "          document.querySelector('#df-898b5f1f-be77-4707-b87e-2e1c7417378e button.colab-df-convert');\n",
       "        buttonEl.style.display =\n",
       "          google.colab.kernel.accessAllowed ? 'block' : 'none';\n",
       "\n",
       "        async function convertToInteractive(key) {\n",
       "          const element = document.querySelector('#df-898b5f1f-be77-4707-b87e-2e1c7417378e');\n",
       "          const dataTable =\n",
       "            await google.colab.kernel.invokeFunction('convertToInteractive',\n",
       "                                                     [key], {});\n",
       "          if (!dataTable) return;\n",
       "\n",
       "          const docLinkHtml = 'Like what you see? Visit the ' +\n",
       "            '<a target=\"_blank\" href=https://colab.research.google.com/notebooks/data_table.ipynb>data table notebook</a>'\n",
       "            + ' to learn more about interactive tables.';\n",
       "          element.innerHTML = '';\n",
       "          dataTable['output_type'] = 'display_data';\n",
       "          await google.colab.output.renderOutput(dataTable, element);\n",
       "          const docLink = document.createElement('div');\n",
       "          docLink.innerHTML = docLinkHtml;\n",
       "          element.appendChild(docLink);\n",
       "        }\n",
       "      </script>\n",
       "    </div>\n",
       "  </div>\n",
       "  "
      ]
     },
     "metadata": {},
     "execution_count": 25
    }
   ]
  },
  {
   "cell_type": "markdown",
   "source": [
    "In the original dataset, we had 93 relevant tweets out of 788. In the test set, we had 31 relevant tweets out of 288. In this new filtered dataset (based on the test set) that had been run through the relevance model, we would have 19 relevant tweets out of 50.\n",
    "\n",
    "$R_o = 31/288=0.107$\n",
    "\n",
    "$R_n = 19/50=0.38$\n",
    "\n",
    "So our relevance rate almost quadrupled.\n",
    "\n",
    "All in all, we went down from 31 relevant tweets to 19 relevant tweets (dropped 39%), and from 257 irrelevant tweets to 31 irrelevant tweets (dropped 88%).\n",
    "\n",
    "There is an added advantage where the false positives are likely to be more relevant than completely irrelevant tweets (even if they don't meet our threshold for the relevant category).\n",
    "\n",
    "Options to explore:\n",
    "* Data cleaning (removing hashtags? URLs? emojis?)\n",
    "* Featurization - improving upon basic tf-idf\n",
    "* Different models (sklearn, xgboost, catboost, lightgbm etc)\n",
    "* Hyperparameter tuning with CV"
   ],
   "metadata": {
    "id": "hrAa_GVmkHMl",
    "pycharm": {
     "name": "#%% md\n"
    }
   }
  },
  {
   "cell_type": "code",
   "source": [
    "for i in [0, 1]:\n",
    "  print(test_y.columns[i])\n",
    "  precision, recall, thresh = precision_recall_curve(test_y.values[:,i], np.array(clf.predict_proba(test_feat))[:,:,1].T[:,i])\n",
    "  for p, r, t in zip(precision, recall, thresh):\n",
    "    if r > 0.4 and p > 0.4:\n",
    "      print(p, r, p*r, t)\n",
    "  disp = PrecisionRecallDisplay(precision=precision, recall=recall)\n",
    "  disp.plot()"
   ],
   "metadata": {
    "colab": {
     "base_uri": "https://localhost:8080/",
     "height": 1000
    },
    "id": "aAr_Zt4a5yj6",
    "outputId": "fc4d9244-daf1-4b06-b0b7-890ef16bbade",
    "pycharm": {
     "name": "#%%\n"
    }
   },
   "execution_count": 13,
   "outputs": [
    {
     "output_type": "stream",
     "name": "stdout",
     "text": [
      "vic\n",
      "0.40606060606060607 0.9178082191780822 0.37268576172685763 0.17\n",
      "0.41875 0.9178082191780822 0.38433219178082195 0.18\n",
      "0.42038216560509556 0.9041095890410958 0.38007154698542883 0.19\n",
      "0.423841059602649 0.8767123287671232 0.3715866823913635 0.2\n",
      "0.43537414965986393 0.8767123287671232 0.38169788463330534 0.21\n",
      "0.4413793103448276 0.8767123287671232 0.3869626830420406 0.22\n",
      "0.460431654676259 0.8767123287671232 0.40366610820932297 0.23\n",
      "0.4666666666666667 0.863013698630137 0.40273972602739727 0.24\n",
      "0.48091603053435117 0.863013698630137 0.4150371222419743 0.25\n",
      "0.4881889763779528 0.8493150684931506 0.41462625391004204 0.26\n",
      "0.5040650406504065 0.8493150684931506 0.42811003452500274 0.27\n",
      "0.5081967213114754 0.8493150684931506 0.4316191331686503 0.28\n",
      "0.5299145299145299 0.8493150684931506 0.4500643952698747 0.29\n",
      "0.5350877192982456 0.8356164383561644 0.44712809420812305 0.3\n",
      "0.5504587155963303 0.821917808219178 0.45243182103807966 0.31\n",
      "0.5566037735849056 0.8082191780821918 0.4498578444042388 0.32\n",
      "0.5686274509803921 0.7945205479452054 0.4517861939296266 0.33\n",
      "0.5858585858585859 0.7945205479452054 0.4654766846547668 0.34\n",
      "0.5979381443298969 0.7945205479452054 0.475074142070329 0.35\n",
      "0.6170212765957447 0.7945205479452054 0.4902360827747012 0.37\n",
      "0.6304347826086957 0.7945205479452054 0.5008933889219773 0.38\n",
      "0.6263736263736264 0.7808219178082192 0.4890862562095439 0.39\n",
      "0.6363636363636364 0.7671232876712328 0.4881693648816936 0.41\n",
      "0.6626506024096386 0.7534246575342466 0.49925730318534417 0.42\n",
      "0.6790123456790124 0.7534246575342466 0.5115846440047354 0.44\n",
      "0.7142857142857143 0.7534246575342466 0.538160469667319 0.45\n",
      "0.7123287671232876 0.7123287671232876 0.507412272471383 0.46\n",
      "0.7285714285714285 0.6986301369863014 0.5090019569471624 0.47\n",
      "0.7538461538461538 0.6712328767123288 0.5060063224446786 0.48\n",
      "0.75 0.6575342465753424 0.4931506849315068 0.49\n",
      "0.7540983606557377 0.6301369863013698 0.47518526835841 0.5\n",
      "0.75 0.6164383561643836 0.4623287671232877 0.51\n",
      "0.7627118644067796 0.6164383561643836 0.4701648479219875 0.52\n",
      "0.7758620689655172 0.6164383561643836 0.4782711384034011 0.53\n",
      "0.7719298245614035 0.6027397260273972 0.46527277096851716 0.58\n",
      "0.7962962962962963 0.589041095890411 0.46905124302384577 0.6\n",
      "0.7924528301886793 0.5753424657534246 0.4559317653140346 0.61\n",
      "0.803921568627451 0.5616438356164384 0.4515175933387054 0.62\n",
      "0.8163265306122449 0.547945205479452 0.44730220855465475 0.63\n",
      "0.8333333333333334 0.547945205479452 0.45662100456621 0.65\n",
      "0.851063829787234 0.547945205479452 0.4663363450888953 0.67\n",
      "0.8478260869565217 0.5342465753424658 0.45294818344252535 0.68\n",
      "0.8636363636363636 0.5205479452054794 0.4495641344956413 0.7\n",
      "0.8604651162790697 0.5068493150684932 0.43612615482637784 0.72\n",
      "0.8571428571428571 0.4931506849315068 0.4227005870841487 0.73\n",
      "0.8536585365853658 0.4794520547945205 0.409288339458737 0.74\n",
      "0.8717948717948718 0.4657534246575342 0.40604144713733753 0.75\n",
      "0.868421052631579 0.4520547945205479 0.3925739005046864 0.8\n",
      "0.8611111111111112 0.4246575342465753 0.3656773211567732 0.83\n",
      "0.8857142857142857 0.4246575342465753 0.37612524461839525 0.85\n",
      "hl\n",
      "0.4074074074074074 0.6285714285714286 0.2560846560846561 0.33\n",
      "0.4117647058823529 0.6 0.24705882352941175 0.34\n",
      "0.40816326530612246 0.5714285714285714 0.23323615160349853 0.35\n",
      "0.4166666666666667 0.5714285714285714 0.23809523809523808 0.36\n",
      "0.4090909090909091 0.5142857142857142 0.21038961038961038 0.38\n",
      "0.40476190476190477 0.4857142857142857 0.19659863945578232 0.39\n",
      "0.425 0.4857142857142857 0.20642857142857143 0.4\n",
      "0.4358974358974359 0.4857142857142857 0.21172161172161172 0.41\n",
      "0.42105263157894735 0.45714285714285713 0.19248120300751878 0.43\n",
      "0.4166666666666667 0.42857142857142855 0.17857142857142858 0.44\n"
     ]
    },
    {
     "output_type": "display_data",
     "data": {
      "text/plain": [
       "<Figure size 432x288 with 1 Axes>"
      ],
      "image/png": "[encoded data removed]"
     },
     "metadata": {
      "needs_background": "light"
     }
    },
    {
     "output_type": "display_data",
     "data": {
      "text/plain": [
       "<Figure size 432x288 with 1 Axes>"
      ],
      "image/png": "[encoded data removed]"
     },
     "metadata": {
      "needs_background": "light"
     }
    }
   ]
  },
  {
   "cell_type": "code",
   "source": [],
   "metadata": {
    "id": "69tsYIsKBAdg",
    "pycharm": {
     "name": "#%%\n"
    }
   },
   "execution_count": 13,
   "outputs": []
  }
 ]
}